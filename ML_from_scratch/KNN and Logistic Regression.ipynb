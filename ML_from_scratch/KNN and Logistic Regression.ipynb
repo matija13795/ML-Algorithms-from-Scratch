{
  "cells": [
    {
      "cell_type": "code",
      "execution_count": null,
      "metadata": {
        "id": "vY5VfO9VwVZF"
      },
      "outputs": [],
      "source": [
        "import numpy as np\n",
        "import pandas as pd\n",
        "from sklearn.model_selection import train_test_split"
      ]
    },
    {
      "cell_type": "code",
      "execution_count": null,
      "metadata": {
        "id": "XpVU2KW6unKY"
      },
      "outputs": [],
      "source": [
        "import seaborn as sns"
      ]
    },
    {
      "cell_type": "code",
      "execution_count": null,
      "metadata": {
        "id": "cGZgo1c10Lfe"
      },
      "outputs": [],
      "source": [
        "from typing import Tuple"
      ]
    },
    {
      "cell_type": "markdown",
      "metadata": {
        "id": "2OnBF0z8qQej"
      },
      "source": [
        "The goal of this notebook is to deepen my understanding of two fundamental classification algorithms: K-Nearest Neighbors (KNN) and Logistic Regression. I will implement the algorithms from scratch (i.e., without using machine learning libraries like scikit-learn) and apply them to a real-life dataset.\n",
        "\n",
        "**Dataset Description**\n",
        "\n",
        "I will use the Pima Indians Diabetes Dataset, which is available from Kaggle. This dataset consists of medical diagnostic measurements to predict whether a patient has diabetes.\n",
        "\n",
        "Number of Instances: 768.\n",
        "Number of Attributes: 8 predictive features and 1 target variable.\n",
        "Predictive Features:  \n",
        "\n",
        "* Number of times pregnant  \n",
        "* Plasma glucose concentration  \n",
        "* Diastolic blood pressure (mm Hg)  \n",
        "* Triceps skinfold thickness (mm)  \n",
        "* 2-Hour serum insulin (mu U/ml)  \n",
        "* Body mass index (weight in kg/(height in m)^2)  \n",
        "* Diabetes pedigree function  \n",
        "* Age (Categorical)\n",
        "\n",
        "Target Variable:  \n",
        "0: Non-diabetic  \n",
        "1: Diabetic."
      ]
    },
    {
      "cell_type": "code",
      "execution_count": null,
      "metadata": {
        "id": "nTQObdQln-Hh"
      },
      "outputs": [],
      "source": [
        "# Defining the helper function to evaluate the model\n",
        "\n",
        "def evaluate_model(true_labels, predicted_labels):\n",
        "    \"\"\"Evaluates the model using various metrics.\n",
        "\n",
        "    Args:\n",
        "        true_labels (numpy.ndarray): The true class labels.\n",
        "        predicted_labels (numpy.ndarray): The predicted class labels.\n",
        "\n",
        "    Returns:\n",
        "        dict: A dictionary containing evaluation metrics.\n",
        "    \"\"\"\n",
        "    from sklearn.metrics import confusion_matrix, accuracy_score, precision_score, recall_score, f1_score\n",
        "\n",
        "    cm = confusion_matrix(true_labels, predicted_labels)\n",
        "    accuracy = accuracy_score(true_labels, predicted_labels)\n",
        "    precision = precision_score(true_labels, predicted_labels)\n",
        "    recall = recall_score(true_labels, predicted_labels)\n",
        "    f1 = f1_score(true_labels, predicted_labels)\n",
        "\n",
        "    metrics = {\n",
        "        'Confusion Matrix': cm,\n",
        "        'Accuracy': accuracy,\n",
        "        'Precision': precision,\n",
        "        'Recall': recall,\n",
        "        'F1 Score': f1\n",
        "    }\n",
        "    return metrics"
      ]
    },
    {
      "cell_type": "markdown",
      "metadata": {
        "id": "FER73zTWtjxC"
      },
      "source": [
        "## Data Loading and Preprocessing\n",
        "\n",
        "Load the Dataset: Read the dataset into your program.  \n",
        "Data Cleaning: Check for missing values or anomalies and handle them appropriately.  \n",
        "Feature Scaling: Apply feature scaling (normalization or standardization) to the dataset.  \n",
        "Train-Test Split: Split the dataset into training and testing sets (e.g., 80% training, 20% testing).  \n"
      ]
    },
    {
      "cell_type": "code",
      "execution_count": null,
      "metadata": {
        "colab": {
          "base_uri": "https://localhost:8080/",
          "height": 73
        },
        "id": "qylSophd7UKJ",
        "outputId": "a8778cb7-bb23-4d0c-c8aa-4616d081e84d"
      },
      "outputs": [
        {
          "data": {
            "text/html": [
              "\n",
              "     <input type=\"file\" id=\"files-9d1fdc87-152f-41e4-9493-932dd4ec9c4e\" name=\"files[]\" multiple disabled\n",
              "        style=\"border:none\" />\n",
              "     <output id=\"result-9d1fdc87-152f-41e4-9493-932dd4ec9c4e\">\n",
              "      Upload widget is only available when the cell has been executed in the\n",
              "      current browser session. Please rerun this cell to enable.\n",
              "      </output>\n",
              "      <script>// Copyright 2017 Google LLC\n",
              "//\n",
              "// Licensed under the Apache License, Version 2.0 (the \"License\");\n",
              "// you may not use this file except in compliance with the License.\n",
              "// You may obtain a copy of the License at\n",
              "//\n",
              "//      http://www.apache.org/licenses/LICENSE-2.0\n",
              "//\n",
              "// Unless required by applicable law or agreed to in writing, software\n",
              "// distributed under the License is distributed on an \"AS IS\" BASIS,\n",
              "// WITHOUT WARRANTIES OR CONDITIONS OF ANY KIND, either express or implied.\n",
              "// See the License for the specific language governing permissions and\n",
              "// limitations under the License.\n",
              "\n",
              "/**\n",
              " * @fileoverview Helpers for google.colab Python module.\n",
              " */\n",
              "(function(scope) {\n",
              "function span(text, styleAttributes = {}) {\n",
              "  const element = document.createElement('span');\n",
              "  element.textContent = text;\n",
              "  for (const key of Object.keys(styleAttributes)) {\n",
              "    element.style[key] = styleAttributes[key];\n",
              "  }\n",
              "  return element;\n",
              "}\n",
              "\n",
              "// Max number of bytes which will be uploaded at a time.\n",
              "const MAX_PAYLOAD_SIZE = 100 * 1024;\n",
              "\n",
              "function _uploadFiles(inputId, outputId) {\n",
              "  const steps = uploadFilesStep(inputId, outputId);\n",
              "  const outputElement = document.getElementById(outputId);\n",
              "  // Cache steps on the outputElement to make it available for the next call\n",
              "  // to uploadFilesContinue from Python.\n",
              "  outputElement.steps = steps;\n",
              "\n",
              "  return _uploadFilesContinue(outputId);\n",
              "}\n",
              "\n",
              "// This is roughly an async generator (not supported in the browser yet),\n",
              "// where there are multiple asynchronous steps and the Python side is going\n",
              "// to poll for completion of each step.\n",
              "// This uses a Promise to block the python side on completion of each step,\n",
              "// then passes the result of the previous step as the input to the next step.\n",
              "function _uploadFilesContinue(outputId) {\n",
              "  const outputElement = document.getElementById(outputId);\n",
              "  const steps = outputElement.steps;\n",
              "\n",
              "  const next = steps.next(outputElement.lastPromiseValue);\n",
              "  return Promise.resolve(next.value.promise).then((value) => {\n",
              "    // Cache the last promise value to make it available to the next\n",
              "    // step of the generator.\n",
              "    outputElement.lastPromiseValue = value;\n",
              "    return next.value.response;\n",
              "  });\n",
              "}\n",
              "\n",
              "/**\n",
              " * Generator function which is called between each async step of the upload\n",
              " * process.\n",
              " * @param {string} inputId Element ID of the input file picker element.\n",
              " * @param {string} outputId Element ID of the output display.\n",
              " * @return {!Iterable<!Object>} Iterable of next steps.\n",
              " */\n",
              "function* uploadFilesStep(inputId, outputId) {\n",
              "  const inputElement = document.getElementById(inputId);\n",
              "  inputElement.disabled = false;\n",
              "\n",
              "  const outputElement = document.getElementById(outputId);\n",
              "  outputElement.innerHTML = '';\n",
              "\n",
              "  const pickedPromise = new Promise((resolve) => {\n",
              "    inputElement.addEventListener('change', (e) => {\n",
              "      resolve(e.target.files);\n",
              "    });\n",
              "  });\n",
              "\n",
              "  const cancel = document.createElement('button');\n",
              "  inputElement.parentElement.appendChild(cancel);\n",
              "  cancel.textContent = 'Cancel upload';\n",
              "  const cancelPromise = new Promise((resolve) => {\n",
              "    cancel.onclick = () => {\n",
              "      resolve(null);\n",
              "    };\n",
              "  });\n",
              "\n",
              "  // Wait for the user to pick the files.\n",
              "  const files = yield {\n",
              "    promise: Promise.race([pickedPromise, cancelPromise]),\n",
              "    response: {\n",
              "      action: 'starting',\n",
              "    }\n",
              "  };\n",
              "\n",
              "  cancel.remove();\n",
              "\n",
              "  // Disable the input element since further picks are not allowed.\n",
              "  inputElement.disabled = true;\n",
              "\n",
              "  if (!files) {\n",
              "    return {\n",
              "      response: {\n",
              "        action: 'complete',\n",
              "      }\n",
              "    };\n",
              "  }\n",
              "\n",
              "  for (const file of files) {\n",
              "    const li = document.createElement('li');\n",
              "    li.append(span(file.name, {fontWeight: 'bold'}));\n",
              "    li.append(span(\n",
              "        `(${file.type || 'n/a'}) - ${file.size} bytes, ` +\n",
              "        `last modified: ${\n",
              "            file.lastModifiedDate ? file.lastModifiedDate.toLocaleDateString() :\n",
              "                                    'n/a'} - `));\n",
              "    const percent = span('0% done');\n",
              "    li.appendChild(percent);\n",
              "\n",
              "    outputElement.appendChild(li);\n",
              "\n",
              "    const fileDataPromise = new Promise((resolve) => {\n",
              "      const reader = new FileReader();\n",
              "      reader.onload = (e) => {\n",
              "        resolve(e.target.result);\n",
              "      };\n",
              "      reader.readAsArrayBuffer(file);\n",
              "    });\n",
              "    // Wait for the data to be ready.\n",
              "    let fileData = yield {\n",
              "      promise: fileDataPromise,\n",
              "      response: {\n",
              "        action: 'continue',\n",
              "      }\n",
              "    };\n",
              "\n",
              "    // Use a chunked sending to avoid message size limits. See b/62115660.\n",
              "    let position = 0;\n",
              "    do {\n",
              "      const length = Math.min(fileData.byteLength - position, MAX_PAYLOAD_SIZE);\n",
              "      const chunk = new Uint8Array(fileData, position, length);\n",
              "      position += length;\n",
              "\n",
              "      const base64 = btoa(String.fromCharCode.apply(null, chunk));\n",
              "      yield {\n",
              "        response: {\n",
              "          action: 'append',\n",
              "          file: file.name,\n",
              "          data: base64,\n",
              "        },\n",
              "      };\n",
              "\n",
              "      let percentDone = fileData.byteLength === 0 ?\n",
              "          100 :\n",
              "          Math.round((position / fileData.byteLength) * 100);\n",
              "      percent.textContent = `${percentDone}% done`;\n",
              "\n",
              "    } while (position < fileData.byteLength);\n",
              "  }\n",
              "\n",
              "  // All done.\n",
              "  yield {\n",
              "    response: {\n",
              "      action: 'complete',\n",
              "    }\n",
              "  };\n",
              "}\n",
              "\n",
              "scope.google = scope.google || {};\n",
              "scope.google.colab = scope.google.colab || {};\n",
              "scope.google.colab._files = {\n",
              "  _uploadFiles,\n",
              "  _uploadFilesContinue,\n",
              "};\n",
              "})(self);\n",
              "</script> "
            ],
            "text/plain": [
              "<IPython.core.display.HTML object>"
            ]
          },
          "metadata": {},
          "output_type": "display_data"
        },
        {
          "name": "stdout",
          "output_type": "stream",
          "text": [
            "Saving diabetes.csv to diabetes (1).csv\n"
          ]
        }
      ],
      "source": [
        "from google.colab import files\n",
        "uploaded = files.upload()"
      ]
    },
    {
      "cell_type": "code",
      "execution_count": null,
      "metadata": {
        "colab": {
          "base_uri": "https://localhost:8080/",
          "height": 206
        },
        "id": "bR3vZgequVe1",
        "outputId": "58d6fac7-9d37-4797-b509-5c5b7c7ebbf6"
      },
      "outputs": [
        {
          "data": {
            "application/vnd.google.colaboratory.intrinsic+json": {
              "summary": "{\n  \"name\": \"diabetes\",\n  \"rows\": 768,\n  \"fields\": [\n    {\n      \"column\": \"Pregnancies\",\n      \"properties\": {\n        \"dtype\": \"number\",\n        \"std\": 3,\n        \"min\": 0,\n        \"max\": 17,\n        \"num_unique_values\": 17,\n        \"samples\": [\n          6,\n          1,\n          3\n        ],\n        \"semantic_type\": \"\",\n        \"description\": \"\"\n      }\n    },\n    {\n      \"column\": \"Glucose\",\n      \"properties\": {\n        \"dtype\": \"number\",\n        \"std\": 30.53564107280403,\n        \"min\": 44.0,\n        \"max\": 199.0,\n        \"num_unique_values\": 135,\n        \"samples\": [\n          135.0,\n          134.0,\n          86.0\n        ],\n        \"semantic_type\": \"\",\n        \"description\": \"\"\n      }\n    },\n    {\n      \"column\": \"BloodPressure\",\n      \"properties\": {\n        \"dtype\": \"number\",\n        \"std\": 12.382158210105263,\n        \"min\": 24.0,\n        \"max\": 122.0,\n        \"num_unique_values\": 46,\n        \"samples\": [\n          102.0,\n          85.0,\n          86.0\n        ],\n        \"semantic_type\": \"\",\n        \"description\": \"\"\n      }\n    },\n    {\n      \"column\": \"SkinThickness\",\n      \"properties\": {\n        \"dtype\": \"number\",\n        \"std\": 10.476982369987212,\n        \"min\": 7.0,\n        \"max\": 99.0,\n        \"num_unique_values\": 50,\n        \"samples\": [\n          36.0,\n          12.0,\n          28.0\n        ],\n        \"semantic_type\": \"\",\n        \"description\": \"\"\n      }\n    },\n    {\n      \"column\": \"Insulin\",\n      \"properties\": {\n        \"dtype\": \"number\",\n        \"std\": 118.77585518724514,\n        \"min\": 14.0,\n        \"max\": 846.0,\n        \"num_unique_values\": 185,\n        \"samples\": [\n          240.0,\n          18.0,\n          274.0\n        ],\n        \"semantic_type\": \"\",\n        \"description\": \"\"\n      }\n    },\n    {\n      \"column\": \"BMI\",\n      \"properties\": {\n        \"dtype\": \"number\",\n        \"std\": 6.924988332105907,\n        \"min\": 18.2,\n        \"max\": 67.1,\n        \"num_unique_values\": 247,\n        \"samples\": [\n          27.6,\n          31.0,\n          38.1\n        ],\n        \"semantic_type\": \"\",\n        \"description\": \"\"\n      }\n    },\n    {\n      \"column\": \"DiabetesPedigreeFunction\",\n      \"properties\": {\n        \"dtype\": \"number\",\n        \"std\": 0.33132859501277484,\n        \"min\": 0.078,\n        \"max\": 2.42,\n        \"num_unique_values\": 517,\n        \"samples\": [\n          1.731,\n          0.426,\n          0.138\n        ],\n        \"semantic_type\": \"\",\n        \"description\": \"\"\n      }\n    },\n    {\n      \"column\": \"Outcome\",\n      \"properties\": {\n        \"dtype\": \"number\",\n        \"std\": 0,\n        \"min\": 0,\n        \"max\": 1,\n        \"num_unique_values\": 2,\n        \"samples\": [\n          0,\n          1\n        ],\n        \"semantic_type\": \"\",\n        \"description\": \"\"\n      }\n    },\n    {\n      \"column\": \"age_new\",\n      \"properties\": {\n        \"dtype\": \"category\",\n        \"num_unique_values\": 3,\n        \"samples\": [\n          \"Middle\",\n          \"Young\"\n        ],\n        \"semantic_type\": \"\",\n        \"description\": \"\"\n      }\n    }\n  ]\n}",
              "type": "dataframe",
              "variable_name": "diabetes"
            },
            "text/html": [
              "\n",
              "  <div id=\"df-f1a5ef27-8045-4365-b570-1e4d782cda6b\" class=\"colab-df-container\">\n",
              "    <div>\n",
              "<style scoped>\n",
              "    .dataframe tbody tr th:only-of-type {\n",
              "        vertical-align: middle;\n",
              "    }\n",
              "\n",
              "    .dataframe tbody tr th {\n",
              "        vertical-align: top;\n",
              "    }\n",
              "\n",
              "    .dataframe thead th {\n",
              "        text-align: right;\n",
              "    }\n",
              "</style>\n",
              "<table border=\"1\" class=\"dataframe\">\n",
              "  <thead>\n",
              "    <tr style=\"text-align: right;\">\n",
              "      <th></th>\n",
              "      <th>Pregnancies</th>\n",
              "      <th>Glucose</th>\n",
              "      <th>BloodPressure</th>\n",
              "      <th>SkinThickness</th>\n",
              "      <th>Insulin</th>\n",
              "      <th>BMI</th>\n",
              "      <th>DiabetesPedigreeFunction</th>\n",
              "      <th>Outcome</th>\n",
              "      <th>age_new</th>\n",
              "    </tr>\n",
              "  </thead>\n",
              "  <tbody>\n",
              "    <tr>\n",
              "      <th>0</th>\n",
              "      <td>6</td>\n",
              "      <td>148.0</td>\n",
              "      <td>72.0</td>\n",
              "      <td>35.0</td>\n",
              "      <td>NaN</td>\n",
              "      <td>33.6</td>\n",
              "      <td>0.627</td>\n",
              "      <td>1</td>\n",
              "      <td>Middle</td>\n",
              "    </tr>\n",
              "    <tr>\n",
              "      <th>1</th>\n",
              "      <td>1</td>\n",
              "      <td>85.0</td>\n",
              "      <td>66.0</td>\n",
              "      <td>29.0</td>\n",
              "      <td>NaN</td>\n",
              "      <td>26.6</td>\n",
              "      <td>0.351</td>\n",
              "      <td>0</td>\n",
              "      <td>Young</td>\n",
              "    </tr>\n",
              "    <tr>\n",
              "      <th>2</th>\n",
              "      <td>8</td>\n",
              "      <td>183.0</td>\n",
              "      <td>64.0</td>\n",
              "      <td>NaN</td>\n",
              "      <td>NaN</td>\n",
              "      <td>23.3</td>\n",
              "      <td>0.672</td>\n",
              "      <td>1</td>\n",
              "      <td>Young</td>\n",
              "    </tr>\n",
              "    <tr>\n",
              "      <th>3</th>\n",
              "      <td>1</td>\n",
              "      <td>89.0</td>\n",
              "      <td>66.0</td>\n",
              "      <td>23.0</td>\n",
              "      <td>94.0</td>\n",
              "      <td>28.1</td>\n",
              "      <td>0.167</td>\n",
              "      <td>0</td>\n",
              "      <td>Young</td>\n",
              "    </tr>\n",
              "    <tr>\n",
              "      <th>4</th>\n",
              "      <td>0</td>\n",
              "      <td>137.0</td>\n",
              "      <td>40.0</td>\n",
              "      <td>35.0</td>\n",
              "      <td>168.0</td>\n",
              "      <td>43.1</td>\n",
              "      <td>2.288</td>\n",
              "      <td>1</td>\n",
              "      <td>Young</td>\n",
              "    </tr>\n",
              "  </tbody>\n",
              "</table>\n",
              "</div>\n",
              "    <div class=\"colab-df-buttons\">\n",
              "\n",
              "  <div class=\"colab-df-container\">\n",
              "    <button class=\"colab-df-convert\" onclick=\"convertToInteractive('df-f1a5ef27-8045-4365-b570-1e4d782cda6b')\"\n",
              "            title=\"Convert this dataframe to an interactive table.\"\n",
              "            style=\"display:none;\">\n",
              "\n",
              "  <svg xmlns=\"http://www.w3.org/2000/svg\" height=\"24px\" viewBox=\"0 -960 960 960\">\n",
              "    <path d=\"M120-120v-720h720v720H120Zm60-500h600v-160H180v160Zm220 220h160v-160H400v160Zm0 220h160v-160H400v160ZM180-400h160v-160H180v160Zm440 0h160v-160H620v160ZM180-180h160v-160H180v160Zm440 0h160v-160H620v160Z\"/>\n",
              "  </svg>\n",
              "    </button>\n",
              "\n",
              "  <style>\n",
              "    .colab-df-container {\n",
              "      display:flex;\n",
              "      gap: 12px;\n",
              "    }\n",
              "\n",
              "    .colab-df-convert {\n",
              "      background-color: #E8F0FE;\n",
              "      border: none;\n",
              "      border-radius: 50%;\n",
              "      cursor: pointer;\n",
              "      display: none;\n",
              "      fill: #1967D2;\n",
              "      height: 32px;\n",
              "      padding: 0 0 0 0;\n",
              "      width: 32px;\n",
              "    }\n",
              "\n",
              "    .colab-df-convert:hover {\n",
              "      background-color: #E2EBFA;\n",
              "      box-shadow: 0px 1px 2px rgba(60, 64, 67, 0.3), 0px 1px 3px 1px rgba(60, 64, 67, 0.15);\n",
              "      fill: #174EA6;\n",
              "    }\n",
              "\n",
              "    .colab-df-buttons div {\n",
              "      margin-bottom: 4px;\n",
              "    }\n",
              "\n",
              "    [theme=dark] .colab-df-convert {\n",
              "      background-color: #3B4455;\n",
              "      fill: #D2E3FC;\n",
              "    }\n",
              "\n",
              "    [theme=dark] .colab-df-convert:hover {\n",
              "      background-color: #434B5C;\n",
              "      box-shadow: 0px 1px 3px 1px rgba(0, 0, 0, 0.15);\n",
              "      filter: drop-shadow(0px 1px 2px rgba(0, 0, 0, 0.3));\n",
              "      fill: #FFFFFF;\n",
              "    }\n",
              "  </style>\n",
              "\n",
              "    <script>\n",
              "      const buttonEl =\n",
              "        document.querySelector('#df-f1a5ef27-8045-4365-b570-1e4d782cda6b button.colab-df-convert');\n",
              "      buttonEl.style.display =\n",
              "        google.colab.kernel.accessAllowed ? 'block' : 'none';\n",
              "\n",
              "      async function convertToInteractive(key) {\n",
              "        const element = document.querySelector('#df-f1a5ef27-8045-4365-b570-1e4d782cda6b');\n",
              "        const dataTable =\n",
              "          await google.colab.kernel.invokeFunction('convertToInteractive',\n",
              "                                                    [key], {});\n",
              "        if (!dataTable) return;\n",
              "\n",
              "        const docLinkHtml = 'Like what you see? Visit the ' +\n",
              "          '<a target=\"_blank\" href=https://colab.research.google.com/notebooks/data_table.ipynb>data table notebook</a>'\n",
              "          + ' to learn more about interactive tables.';\n",
              "        element.innerHTML = '';\n",
              "        dataTable['output_type'] = 'display_data';\n",
              "        await google.colab.output.renderOutput(dataTable, element);\n",
              "        const docLink = document.createElement('div');\n",
              "        docLink.innerHTML = docLinkHtml;\n",
              "        element.appendChild(docLink);\n",
              "      }\n",
              "    </script>\n",
              "  </div>\n",
              "\n",
              "\n",
              "<div id=\"df-cc4e2081-c5cd-41ea-a84c-e1ac324ae1cd\">\n",
              "  <button class=\"colab-df-quickchart\" onclick=\"quickchart('df-cc4e2081-c5cd-41ea-a84c-e1ac324ae1cd')\"\n",
              "            title=\"Suggest charts\"\n",
              "            style=\"display:none;\">\n",
              "\n",
              "<svg xmlns=\"http://www.w3.org/2000/svg\" height=\"24px\"viewBox=\"0 0 24 24\"\n",
              "     width=\"24px\">\n",
              "    <g>\n",
              "        <path d=\"M19 3H5c-1.1 0-2 .9-2 2v14c0 1.1.9 2 2 2h14c1.1 0 2-.9 2-2V5c0-1.1-.9-2-2-2zM9 17H7v-7h2v7zm4 0h-2V7h2v10zm4 0h-2v-4h2v4z\"/>\n",
              "    </g>\n",
              "</svg>\n",
              "  </button>\n",
              "\n",
              "<style>\n",
              "  .colab-df-quickchart {\n",
              "      --bg-color: #E8F0FE;\n",
              "      --fill-color: #1967D2;\n",
              "      --hover-bg-color: #E2EBFA;\n",
              "      --hover-fill-color: #174EA6;\n",
              "      --disabled-fill-color: #AAA;\n",
              "      --disabled-bg-color: #DDD;\n",
              "  }\n",
              "\n",
              "  [theme=dark] .colab-df-quickchart {\n",
              "      --bg-color: #3B4455;\n",
              "      --fill-color: #D2E3FC;\n",
              "      --hover-bg-color: #434B5C;\n",
              "      --hover-fill-color: #FFFFFF;\n",
              "      --disabled-bg-color: #3B4455;\n",
              "      --disabled-fill-color: #666;\n",
              "  }\n",
              "\n",
              "  .colab-df-quickchart {\n",
              "    background-color: var(--bg-color);\n",
              "    border: none;\n",
              "    border-radius: 50%;\n",
              "    cursor: pointer;\n",
              "    display: none;\n",
              "    fill: var(--fill-color);\n",
              "    height: 32px;\n",
              "    padding: 0;\n",
              "    width: 32px;\n",
              "  }\n",
              "\n",
              "  .colab-df-quickchart:hover {\n",
              "    background-color: var(--hover-bg-color);\n",
              "    box-shadow: 0 1px 2px rgba(60, 64, 67, 0.3), 0 1px 3px 1px rgba(60, 64, 67, 0.15);\n",
              "    fill: var(--button-hover-fill-color);\n",
              "  }\n",
              "\n",
              "  .colab-df-quickchart-complete:disabled,\n",
              "  .colab-df-quickchart-complete:disabled:hover {\n",
              "    background-color: var(--disabled-bg-color);\n",
              "    fill: var(--disabled-fill-color);\n",
              "    box-shadow: none;\n",
              "  }\n",
              "\n",
              "  .colab-df-spinner {\n",
              "    border: 2px solid var(--fill-color);\n",
              "    border-color: transparent;\n",
              "    border-bottom-color: var(--fill-color);\n",
              "    animation:\n",
              "      spin 1s steps(1) infinite;\n",
              "  }\n",
              "\n",
              "  @keyframes spin {\n",
              "    0% {\n",
              "      border-color: transparent;\n",
              "      border-bottom-color: var(--fill-color);\n",
              "      border-left-color: var(--fill-color);\n",
              "    }\n",
              "    20% {\n",
              "      border-color: transparent;\n",
              "      border-left-color: var(--fill-color);\n",
              "      border-top-color: var(--fill-color);\n",
              "    }\n",
              "    30% {\n",
              "      border-color: transparent;\n",
              "      border-left-color: var(--fill-color);\n",
              "      border-top-color: var(--fill-color);\n",
              "      border-right-color: var(--fill-color);\n",
              "    }\n",
              "    40% {\n",
              "      border-color: transparent;\n",
              "      border-right-color: var(--fill-color);\n",
              "      border-top-color: var(--fill-color);\n",
              "    }\n",
              "    60% {\n",
              "      border-color: transparent;\n",
              "      border-right-color: var(--fill-color);\n",
              "    }\n",
              "    80% {\n",
              "      border-color: transparent;\n",
              "      border-right-color: var(--fill-color);\n",
              "      border-bottom-color: var(--fill-color);\n",
              "    }\n",
              "    90% {\n",
              "      border-color: transparent;\n",
              "      border-bottom-color: var(--fill-color);\n",
              "    }\n",
              "  }\n",
              "</style>\n",
              "\n",
              "  <script>\n",
              "    async function quickchart(key) {\n",
              "      const quickchartButtonEl =\n",
              "        document.querySelector('#' + key + ' button');\n",
              "      quickchartButtonEl.disabled = true;  // To prevent multiple clicks.\n",
              "      quickchartButtonEl.classList.add('colab-df-spinner');\n",
              "      try {\n",
              "        const charts = await google.colab.kernel.invokeFunction(\n",
              "            'suggestCharts', [key], {});\n",
              "      } catch (error) {\n",
              "        console.error('Error during call to suggestCharts:', error);\n",
              "      }\n",
              "      quickchartButtonEl.classList.remove('colab-df-spinner');\n",
              "      quickchartButtonEl.classList.add('colab-df-quickchart-complete');\n",
              "    }\n",
              "    (() => {\n",
              "      let quickchartButtonEl =\n",
              "        document.querySelector('#df-cc4e2081-c5cd-41ea-a84c-e1ac324ae1cd button');\n",
              "      quickchartButtonEl.style.display =\n",
              "        google.colab.kernel.accessAllowed ? 'block' : 'none';\n",
              "    })();\n",
              "  </script>\n",
              "</div>\n",
              "\n",
              "    </div>\n",
              "  </div>\n"
            ],
            "text/plain": [
              "   Pregnancies  Glucose  BloodPressure  SkinThickness  Insulin   BMI  \\\n",
              "0            6    148.0           72.0           35.0      NaN  33.6   \n",
              "1            1     85.0           66.0           29.0      NaN  26.6   \n",
              "2            8    183.0           64.0            NaN      NaN  23.3   \n",
              "3            1     89.0           66.0           23.0     94.0  28.1   \n",
              "4            0    137.0           40.0           35.0    168.0  43.1   \n",
              "\n",
              "   DiabetesPedigreeFunction  Outcome age_new  \n",
              "0                     0.627        1  Middle  \n",
              "1                     0.351        0   Young  \n",
              "2                     0.672        1   Young  \n",
              "3                     0.167        0   Young  \n",
              "4                     2.288        1   Young  "
            ]
          },
          "execution_count": 6,
          "metadata": {},
          "output_type": "execute_result"
        }
      ],
      "source": [
        "diabetes = pd.read_csv('diabetes.csv')\n",
        "diabetes.head()"
      ]
    },
    {
      "cell_type": "code",
      "execution_count": null,
      "metadata": {
        "colab": {
          "base_uri": "https://localhost:8080/"
        },
        "id": "8lxGhElhmJpe",
        "outputId": "097d8157-b0d7-4981-ac17-8762f1578d4a"
      },
      "outputs": [
        {
          "name": "stdout",
          "output_type": "stream",
          "text": [
            "Number of duplicate rows: 0\n"
          ]
        }
      ],
      "source": [
        "# Checking for duplicates. They could skew my model\n",
        "duplicates = diabetes.duplicated().sum()\n",
        "print(f\"Number of duplicate rows: {duplicates}\")"
      ]
    },
    {
      "cell_type": "code",
      "execution_count": null,
      "metadata": {
        "colab": {
          "base_uri": "https://localhost:8080/",
          "height": 366
        },
        "id": "c088syVwfsVo",
        "outputId": "4f8e34b0-d84e-445f-a11c-423df42110d6"
      },
      "outputs": [
        {
          "data": {
            "text/html": [
              "<div>\n",
              "<style scoped>\n",
              "    .dataframe tbody tr th:only-of-type {\n",
              "        vertical-align: middle;\n",
              "    }\n",
              "\n",
              "    .dataframe tbody tr th {\n",
              "        vertical-align: top;\n",
              "    }\n",
              "\n",
              "    .dataframe thead th {\n",
              "        text-align: right;\n",
              "    }\n",
              "</style>\n",
              "<table border=\"1\" class=\"dataframe\">\n",
              "  <thead>\n",
              "    <tr style=\"text-align: right;\">\n",
              "      <th></th>\n",
              "      <th>0</th>\n",
              "    </tr>\n",
              "  </thead>\n",
              "  <tbody>\n",
              "    <tr>\n",
              "      <th>Pregnancies</th>\n",
              "      <td>0</td>\n",
              "    </tr>\n",
              "    <tr>\n",
              "      <th>Glucose</th>\n",
              "      <td>5</td>\n",
              "    </tr>\n",
              "    <tr>\n",
              "      <th>BloodPressure</th>\n",
              "      <td>35</td>\n",
              "    </tr>\n",
              "    <tr>\n",
              "      <th>SkinThickness</th>\n",
              "      <td>227</td>\n",
              "    </tr>\n",
              "    <tr>\n",
              "      <th>Insulin</th>\n",
              "      <td>374</td>\n",
              "    </tr>\n",
              "    <tr>\n",
              "      <th>BMI</th>\n",
              "      <td>11</td>\n",
              "    </tr>\n",
              "    <tr>\n",
              "      <th>DiabetesPedigreeFunction</th>\n",
              "      <td>0</td>\n",
              "    </tr>\n",
              "    <tr>\n",
              "      <th>Outcome</th>\n",
              "      <td>0</td>\n",
              "    </tr>\n",
              "    <tr>\n",
              "      <th>age_new</th>\n",
              "      <td>0</td>\n",
              "    </tr>\n",
              "  </tbody>\n",
              "</table>\n",
              "</div><br><label><b>dtype:</b> int64</label>"
            ],
            "text/plain": [
              "Pregnancies                   0\n",
              "Glucose                       5\n",
              "BloodPressure                35\n",
              "SkinThickness               227\n",
              "Insulin                     374\n",
              "BMI                          11\n",
              "DiabetesPedigreeFunction      0\n",
              "Outcome                       0\n",
              "age_new                       0\n",
              "dtype: int64"
            ]
          },
          "execution_count": 8,
          "metadata": {},
          "output_type": "execute_result"
        }
      ],
      "source": [
        "#----------------------------------------------------------------------------------------\n",
        "# I decided to first do some data cleaning (deal with missing values).\n",
        "# Then, I will split my dataset into train and test sets.\n",
        "# And only then will I finish data cleaning and do feature scaling.\n",
        "# I am doing this specifically as to prevent data leakage.\n",
        "# If I did feature scaling on the entire dataset, and only then splitted my dataset\n",
        "# into train and test sets, my train set will have some knowledge about the test set too!\n",
        "# Which could lead to a false good performance.\n",
        "#----------------------------------------------------------------------------------------\n",
        "\n",
        "diabetes.isnull().sum()"
      ]
    },
    {
      "cell_type": "code",
      "execution_count": null,
      "metadata": {
        "id": "vyOnSFuFzvRC"
      },
      "outputs": [],
      "source": [
        "# dropping the entire Insulin column because it has around half missing values!\n",
        "diabetes.drop('Insulin', axis='columns', inplace=True)"
      ]
    },
    {
      "cell_type": "code",
      "execution_count": null,
      "metadata": {
        "colab": {
          "base_uri": "https://localhost:8080/",
          "height": 335
        },
        "id": "wi1KRuv-1DJU",
        "outputId": "154507cc-0fc4-4153-905b-1dc938eb9dca"
      },
      "outputs": [
        {
          "data": {
            "text/html": [
              "<div>\n",
              "<style scoped>\n",
              "    .dataframe tbody tr th:only-of-type {\n",
              "        vertical-align: middle;\n",
              "    }\n",
              "\n",
              "    .dataframe tbody tr th {\n",
              "        vertical-align: top;\n",
              "    }\n",
              "\n",
              "    .dataframe thead th {\n",
              "        text-align: right;\n",
              "    }\n",
              "</style>\n",
              "<table border=\"1\" class=\"dataframe\">\n",
              "  <thead>\n",
              "    <tr style=\"text-align: right;\">\n",
              "      <th></th>\n",
              "      <th>0</th>\n",
              "    </tr>\n",
              "  </thead>\n",
              "  <tbody>\n",
              "    <tr>\n",
              "      <th>Pregnancies</th>\n",
              "      <td>0</td>\n",
              "    </tr>\n",
              "    <tr>\n",
              "      <th>Glucose</th>\n",
              "      <td>0</td>\n",
              "    </tr>\n",
              "    <tr>\n",
              "      <th>BloodPressure</th>\n",
              "      <td>0</td>\n",
              "    </tr>\n",
              "    <tr>\n",
              "      <th>SkinThickness</th>\n",
              "      <td>192</td>\n",
              "    </tr>\n",
              "    <tr>\n",
              "      <th>BMI</th>\n",
              "      <td>0</td>\n",
              "    </tr>\n",
              "    <tr>\n",
              "      <th>DiabetesPedigreeFunction</th>\n",
              "      <td>0</td>\n",
              "    </tr>\n",
              "    <tr>\n",
              "      <th>Outcome</th>\n",
              "      <td>0</td>\n",
              "    </tr>\n",
              "    <tr>\n",
              "      <th>age_new</th>\n",
              "      <td>0</td>\n",
              "    </tr>\n",
              "  </tbody>\n",
              "</table>\n",
              "</div><br><label><b>dtype:</b> int64</label>"
            ],
            "text/plain": [
              "Pregnancies                   0\n",
              "Glucose                       0\n",
              "BloodPressure                 0\n",
              "SkinThickness               192\n",
              "BMI                           0\n",
              "DiabetesPedigreeFunction      0\n",
              "Outcome                       0\n",
              "age_new                       0\n",
              "dtype: int64"
            ]
          },
          "execution_count": 10,
          "metadata": {},
          "output_type": "execute_result"
        }
      ],
      "source": [
        "# dropping the few rows where Glucose, BMI, or BloodPressure is missing\n",
        "diabetes.dropna(subset=['Glucose', 'BMI', 'BloodPressure'], inplace=True)\n",
        "diabetes.isnull().sum()"
      ]
    },
    {
      "cell_type": "markdown",
      "metadata": {
        "id": "eiyrfALO5kZI"
      },
      "source": [
        "I only dropped about 5% of the entire dataset in the previous step, so I think that's is ok. However, there are still ~26% of missing values for SkinThickness. I will impute them with the median. But I will do so only after I split the dataset into train and test to prevent data leakage!"
      ]
    },
    {
      "cell_type": "code",
      "execution_count": null,
      "metadata": {
        "id": "kt1yeqrkTHno"
      },
      "outputs": [],
      "source": [
        "# create train test split\n",
        "X = diabetes[[x for x in diabetes.columns if x!='Outcome']]\n",
        "y = diabetes['Outcome']\n",
        "\n",
        "X_train, X_test, y_train, y_test = train_test_split(\n",
        "    X, y, test_size=0.33, random_state=42)"
      ]
    },
    {
      "cell_type": "code",
      "execution_count": null,
      "metadata": {
        "id": "8cYNTyYUIUoW"
      },
      "outputs": [],
      "source": [
        "# reset indices for all train and test subsets\n",
        "X_train = X_train.reset_index(drop=True)\n",
        "X_test = X_test.reset_index(drop=True)\n",
        "y_train = y_train.reset_index(drop=True)\n",
        "y_test = y_test.reset_index(drop=True)"
      ]
    },
    {
      "cell_type": "code",
      "execution_count": null,
      "metadata": {
        "colab": {
          "base_uri": "https://localhost:8080/"
        },
        "collapsed": true,
        "id": "NxTPcS1cOIpq",
        "outputId": "9354d284-c0f8-4370-a89a-b5a50e5472cd"
      },
      "outputs": [
        {
          "name": "stderr",
          "output_type": "stream",
          "text": [
            "<ipython-input-13-158fa2fe711c>:4: FutureWarning: A value is trying to be set on a copy of a DataFrame or Series through chained assignment using an inplace method.\n",
            "The behavior will change in pandas 3.0. This inplace method will never work because the intermediate object on which we are setting values always behaves as a copy.\n",
            "\n",
            "For example, when doing 'df[col].method(value, inplace=True)', try using 'df.method({col: value}, inplace=True)' or df[col] = df[col].method(value) instead, to perform the operation inplace on the original object.\n",
            "\n",
            "\n",
            "  X_train['SkinThickness'].fillna(train_median_value, inplace=True)\n",
            "<ipython-input-13-158fa2fe711c>:5: FutureWarning: A value is trying to be set on a copy of a DataFrame or Series through chained assignment using an inplace method.\n",
            "The behavior will change in pandas 3.0. This inplace method will never work because the intermediate object on which we are setting values always behaves as a copy.\n",
            "\n",
            "For example, when doing 'df[col].method(value, inplace=True)', try using 'df.method({col: value}, inplace=True)' or df[col] = df[col].method(value) instead, to perform the operation inplace on the original object.\n",
            "\n",
            "\n",
            "  X_test['SkinThickness'].fillna(test_median_value, inplace=True)\n"
          ]
        }
      ],
      "source": [
        "train_median_value = X_train['SkinThickness'].median()\n",
        "test_median_value = X_test['SkinThickness'].median()\n",
        "\n",
        "X_train['SkinThickness'].fillna(train_median_value, inplace=True)\n",
        "X_test['SkinThickness'].fillna(test_median_value, inplace=True)"
      ]
    },
    {
      "cell_type": "code",
      "execution_count": null,
      "metadata": {
        "colab": {
          "base_uri": "https://localhost:8080/",
          "height": 303
        },
        "id": "nnj9mbnc0W0N",
        "outputId": "abd29c9e-53af-4611-cb9b-1bb5ea7ec5b3"
      },
      "outputs": [
        {
          "data": {
            "text/html": [
              "<div>\n",
              "<style scoped>\n",
              "    .dataframe tbody tr th:only-of-type {\n",
              "        vertical-align: middle;\n",
              "    }\n",
              "\n",
              "    .dataframe tbody tr th {\n",
              "        vertical-align: top;\n",
              "    }\n",
              "\n",
              "    .dataframe thead th {\n",
              "        text-align: right;\n",
              "    }\n",
              "</style>\n",
              "<table border=\"1\" class=\"dataframe\">\n",
              "  <thead>\n",
              "    <tr style=\"text-align: right;\">\n",
              "      <th></th>\n",
              "      <th>0</th>\n",
              "    </tr>\n",
              "  </thead>\n",
              "  <tbody>\n",
              "    <tr>\n",
              "      <th>Pregnancies</th>\n",
              "      <td>0</td>\n",
              "    </tr>\n",
              "    <tr>\n",
              "      <th>Glucose</th>\n",
              "      <td>0</td>\n",
              "    </tr>\n",
              "    <tr>\n",
              "      <th>BloodPressure</th>\n",
              "      <td>0</td>\n",
              "    </tr>\n",
              "    <tr>\n",
              "      <th>SkinThickness</th>\n",
              "      <td>0</td>\n",
              "    </tr>\n",
              "    <tr>\n",
              "      <th>BMI</th>\n",
              "      <td>0</td>\n",
              "    </tr>\n",
              "    <tr>\n",
              "      <th>DiabetesPedigreeFunction</th>\n",
              "      <td>0</td>\n",
              "    </tr>\n",
              "    <tr>\n",
              "      <th>age_new</th>\n",
              "      <td>0</td>\n",
              "    </tr>\n",
              "  </tbody>\n",
              "</table>\n",
              "</div><br><label><b>dtype:</b> int64</label>"
            ],
            "text/plain": [
              "Pregnancies                 0\n",
              "Glucose                     0\n",
              "BloodPressure               0\n",
              "SkinThickness               0\n",
              "BMI                         0\n",
              "DiabetesPedigreeFunction    0\n",
              "age_new                     0\n",
              "dtype: int64"
            ]
          },
          "execution_count": 14,
          "metadata": {},
          "output_type": "execute_result"
        }
      ],
      "source": [
        "X_train.isnull().sum()"
      ]
    },
    {
      "cell_type": "code",
      "execution_count": null,
      "metadata": {
        "colab": {
          "base_uri": "https://localhost:8080/",
          "height": 303
        },
        "id": "4VUWw6lbQK0M",
        "outputId": "155bec9b-3567-4d9e-fc34-b94da12430b3"
      },
      "outputs": [
        {
          "data": {
            "text/html": [
              "<div>\n",
              "<style scoped>\n",
              "    .dataframe tbody tr th:only-of-type {\n",
              "        vertical-align: middle;\n",
              "    }\n",
              "\n",
              "    .dataframe tbody tr th {\n",
              "        vertical-align: top;\n",
              "    }\n",
              "\n",
              "    .dataframe thead th {\n",
              "        text-align: right;\n",
              "    }\n",
              "</style>\n",
              "<table border=\"1\" class=\"dataframe\">\n",
              "  <thead>\n",
              "    <tr style=\"text-align: right;\">\n",
              "      <th></th>\n",
              "      <th>0</th>\n",
              "    </tr>\n",
              "  </thead>\n",
              "  <tbody>\n",
              "    <tr>\n",
              "      <th>Pregnancies</th>\n",
              "      <td>0</td>\n",
              "    </tr>\n",
              "    <tr>\n",
              "      <th>Glucose</th>\n",
              "      <td>0</td>\n",
              "    </tr>\n",
              "    <tr>\n",
              "      <th>BloodPressure</th>\n",
              "      <td>0</td>\n",
              "    </tr>\n",
              "    <tr>\n",
              "      <th>SkinThickness</th>\n",
              "      <td>0</td>\n",
              "    </tr>\n",
              "    <tr>\n",
              "      <th>BMI</th>\n",
              "      <td>0</td>\n",
              "    </tr>\n",
              "    <tr>\n",
              "      <th>DiabetesPedigreeFunction</th>\n",
              "      <td>0</td>\n",
              "    </tr>\n",
              "    <tr>\n",
              "      <th>age_new</th>\n",
              "      <td>0</td>\n",
              "    </tr>\n",
              "  </tbody>\n",
              "</table>\n",
              "</div><br><label><b>dtype:</b> int64</label>"
            ],
            "text/plain": [
              "Pregnancies                 0\n",
              "Glucose                     0\n",
              "BloodPressure               0\n",
              "SkinThickness               0\n",
              "BMI                         0\n",
              "DiabetesPedigreeFunction    0\n",
              "age_new                     0\n",
              "dtype: int64"
            ]
          },
          "execution_count": 15,
          "metadata": {},
          "output_type": "execute_result"
        }
      ],
      "source": [
        "X_test.isnull().sum()"
      ]
    },
    {
      "cell_type": "code",
      "execution_count": null,
      "metadata": {
        "id": "fc5A0ZWoyfGE"
      },
      "outputs": [],
      "source": [
        "from sklearn.preprocessing import MinMaxScaler, StandardScaler\n",
        "\n",
        "cat_features = [\"age_new\"]\n",
        "num_features = X.columns.tolist()\n",
        "num_features.remove(\"age_new\")\n",
        "\n",
        "# I have read on the Internet that for some reason normalizing a dataset\n",
        "# will make KNN perform better, while standardizing a dataset will make\n",
        "# Logistic Regression do better. I thought it was interesting, so I wanted to try it out.\n",
        "\n",
        "min_max_scaler  = MinMaxScaler()\n",
        "standard_scaler = StandardScaler()\n",
        "\n",
        "# will be used for KNN\n",
        "X_train_normalized_numeric = pd.DataFrame(min_max_scaler.fit_transform(X_train[num_features]), columns=num_features)\n",
        "X_test_normalized_numeric  = pd.DataFrame(min_max_scaler.transform(X_test[num_features]), columns=num_features)\n",
        "\n",
        "X_train_normalized = pd.concat([X_train_normalized_numeric, X_train.drop(num_features, axis=1)], axis=1)\n",
        "X_test_normalized  = pd.concat([X_test_normalized_numeric, X_test.drop(num_features, axis=1)], axis=1)\n",
        "\n",
        "\n",
        "# will be used for Logistic Regression\n",
        "X_train_standardized_numeric = pd.DataFrame(standard_scaler.fit_transform(X_train[num_features]), columns=num_features)\n",
        "X_test_standardized_numeric  = pd.DataFrame(standard_scaler.transform(X_test[num_features]), columns=num_features)\n",
        "\n",
        "X_train_standardized = pd.concat([X_train_standardized_numeric, X_train.drop(num_features, axis=1)], axis=1)\n",
        "X_test_standardized  = pd.concat([X_test_standardized_numeric, X_test.drop(num_features, axis=1)], axis=1)"
      ]
    },
    {
      "cell_type": "markdown",
      "metadata": {
        "id": "SK-cNqpTtrYX"
      },
      "source": [
        "## Implement K-Nearest Neighbors (KNN) from Scratch\n",
        "\n",
        "Our implementation will be an improvement of the existing KNN classifier in scikit learn. KNN is scikit-learn can only handle numeric variables, but we will build one that can handle both categorical and numeric variables.\n",
        "\n",
        "\n",
        "**Distance Function**\n",
        "\n",
        "\n",
        "Our distance function must handle both numerical and categorical variables. Recall, from my K-Prototypes algorithm, I implemented such a function. Let's do it again."
      ]
    },
    {
      "cell_type": "markdown",
      "metadata": {
        "id": "CWrMJ_BLlzbQ"
      },
      "source": [
        "Implement code to handle the numerical features"
      ]
    },
    {
      "cell_type": "code",
      "execution_count": null,
      "metadata": {
        "id": "OAeiWCKWqOXt"
      },
      "outputs": [],
      "source": [
        "def euclidean_distance(x: np.array, y: np.array) -> float:\n",
        "    \"\"\"Calculates the Euclidean distance between two points.\n",
        "    Args:\n",
        "        x (numpy.ndarray): The first point.\n",
        "        y (numpy.ndarray): The second point.\n",
        "\n",
        "    Returns:\n",
        "        float: The Euclidean distance between the two points.\n",
        "    \"\"\"\n",
        "    sum = 0\n",
        "    for component in range(0, len(x)):\n",
        "      sum += (y[component]-x[component])**2\n",
        "\n",
        "    distance = np.sqrt(sum)\n",
        "    return distance"
      ]
    },
    {
      "cell_type": "markdown",
      "metadata": {
        "id": "lJErL6n2l1mb"
      },
      "source": [
        "Implement code to handle the categorical features"
      ]
    },
    {
      "cell_type": "code",
      "execution_count": null,
      "metadata": {
        "id": "AE9UKBzYl4QW"
      },
      "outputs": [],
      "source": [
        "def simple_matching_dissimilarity(x: np.array, y: np.array) -> float:\n",
        "    \"\"\"Calculates the simple matching dissimilarity between two categorical samples.\n",
        "    Args:\n",
        "        x (numpy.ndarray): the categorical features of the first sample.\n",
        "        y (numpy.ndarray): the categorical features of the second sample.\n",
        "\n",
        "    Returns:\n",
        "        int: The number of mismatches between the two points.\n",
        "    \"\"\"\n",
        "    missmatches = 0\n",
        "    for i in range(0, len(x)):\n",
        "      if x[i] != y[i]:\n",
        "        missmatches += 1\n",
        "    return missmatches"
      ]
    },
    {
      "cell_type": "markdown",
      "metadata": {
        "id": "Ce7UC12xmJky"
      },
      "source": [
        "### Neighbor Identification\n",
        "\n",
        "Define a function that finds the k-nearest neighbor's labels."
      ]
    },
    {
      "cell_type": "code",
      "execution_count": null,
      "metadata": {
        "collapsed": true,
        "id": "0kCN_7obmHrN"
      },
      "outputs": [],
      "source": [
        "def get_k_nearest_neighbors(\n",
        "    X_train: pd.DataFrame,\n",
        "    y_train: pd.DataFrame,\n",
        "    test_instance: pd.DataFrame,\n",
        "    k: int,\n",
        "    num_features: list,\n",
        "    cat_features: list,\n",
        "    gamma: float,\n",
        ") -> list:\n",
        "    \"\"\"Finds the k nearest neighbors of a test instance.\n",
        "    Args:\n",
        "        X_train (pd.DataFrame): The training data.\n",
        "        y_train (pd.DataFrame): The labels for the training data.\n",
        "        test_instance (pd.DataFrame): The test instance.\n",
        "        k (int): The number of neighbors to find.\n",
        "        num_features (list): List containing numerical column names\n",
        "        cat_features (list): List containing categorical column names\n",
        "        gamma (float): The weight to put on categorical distance\n",
        "\n",
        "    Returns:\n",
        "        list: Labels of the k nearest neighbors.\n",
        "    \"\"\"\n",
        "\n",
        "    # make sure to handle cases where the data only has numeric or categorical\n",
        "    # variables.\n",
        "\n",
        "    distances_and_labels = []\n",
        "    for i in range(len(X_train)):\n",
        "      label = y_train.values[i] # keeping track of the corresponding label for each row\n",
        "\n",
        "      distance = 0\n",
        "      numerical_distance = 0\n",
        "      categorical_distance = 0\n",
        "\n",
        "      # if numerical features exist\n",
        "      if all([col in X_train.columns for col in num_features]):\n",
        "        point_num = X_train[num_features].values[i]\n",
        "        numerical_distance = euclidean_distance(point_num, test_instance[num_features].values.flatten())\n",
        "\n",
        "      # if categorical features exist\n",
        "      if all([col in X_train.columns for col in cat_features]):\n",
        "        point_cat = X_train[cat_features].values[i]\n",
        "        categorical_distance = simple_matching_dissimilarity(point_cat, test_instance[cat_features].values.flatten())\n",
        "\n",
        "      distances_and_labels.append([numerical_distance + gamma * categorical_distance, label])\n",
        "\n",
        "    # The total distance must be a sum of the euclidean distance + gamma * categorical distance\n",
        "    distances_and_labels.sort(key=lambda x: x[0])\n",
        "    labels = [label[1] for label in distances_and_labels[:k]]\n",
        "    return labels"
      ]
    },
    {
      "cell_type": "markdown",
      "metadata": {
        "id": "TXV0bnTVqH84"
      },
      "source": [
        "### Prediction Function"
      ]
    },
    {
      "cell_type": "code",
      "execution_count": null,
      "metadata": {
        "id": "AJgWqVoQuMSB"
      },
      "outputs": [],
      "source": [
        "import random\n",
        "\n",
        "def predict_classification(\n",
        "    X_train: pd.DataFrame,\n",
        "    y_train: pd.DataFrame,\n",
        "    test_instance: pd.DataFrame,\n",
        "    k: int,\n",
        "    num_features: list,\n",
        "    cat_features: list,\n",
        "    gamma: float,\n",
        ") -> str:\n",
        "    \"\"\"Predicts the class label for a test instance by first calling get_k_nearest_neighbors\n",
        "    and then taking a majority vote\n",
        "    Args:\n",
        "        X_train (pd.DataFrame): The training data.\n",
        "        y_train (pd.DataFrame): The labels for the training data.\n",
        "        test_instance (pd.DataFrame): The test instance.\n",
        "        k (int): The number of neighbors to find.\n",
        "        num_features (list): List containing numerical column names\n",
        "        cat_features (list): List containing categorical column names\n",
        "        gamma (float): How much to weigh the categorical distances\n",
        "\n",
        "    Returns:\n",
        "        The predicted class label.\n",
        "    \"\"\"\n",
        "\n",
        "    k_nearest_neighbors = get_k_nearest_neighbors(X_train, y_train, test_instance, k, num_features, cat_features, gamma)\n",
        "    dict_counter = {}\n",
        "    for label in k_nearest_neighbors:\n",
        "      if label in dict_counter.keys():\n",
        "        dict_counter[label] = dict_counter[label] + 1\n",
        "      else:\n",
        "        dict_counter[label] = 1\n",
        "\n",
        "    # get all labels with the max count (in case of ties)\n",
        "    max_count = max(dict_counter.values())\n",
        "    most_frequent_labels = [label for label, count in dict_counter.items() if count == max_count]\n",
        "\n",
        "    # choose one randomly out of the ones with the max count\n",
        "    chosen_label = random.choice(most_frequent_labels)\n",
        "    return chosen_label"
      ]
    },
    {
      "cell_type": "markdown",
      "metadata": {
        "id": "9BuXjW6pqk7L"
      },
      "source": [
        "### KNN Classifier Function"
      ]
    },
    {
      "cell_type": "code",
      "execution_count": null,
      "metadata": {
        "id": "XWsryE6oqnY2"
      },
      "outputs": [],
      "source": [
        "def knn_classifier(\n",
        "    X_train: pd.DataFrame,\n",
        "    y_train: pd.DataFrame,\n",
        "    X_test: pd.DataFrame,\n",
        "    k,\n",
        "    num_features: list,\n",
        "    cat_features: list,\n",
        "    gamma: float,\n",
        ") -> list:\n",
        "    \"\"\"Classifies test data using the KNN algorithm. Iterates over all rows in\n",
        "    X_test and returns the prediction for each of them\n",
        "    Args:\n",
        "        X_train (pd.DataFrame): The training data.\n",
        "        y_train (pd.DataFrame): The labels for the training data.\n",
        "        X_test (pd.DataFrame): The test data to classify.\n",
        "        k (int): The number of neighbors to consider.\n",
        "        num_features (list): List containing numerical column names\n",
        "        cat_features (list): List containing categorical column names\n",
        "        gamma (float): How much to weigh the categorical distances.\n",
        "\n",
        "\n",
        "    Returns:\n",
        "        list: Predicted class labels for the test data.\n",
        "    \"\"\"\n",
        "\n",
        "    predictions = []\n",
        "    for index, test_instance in X_test.iterrows():\n",
        "      predictions.append(predict_classification(\n",
        "          X_train, y_train, test_instance, k, num_features, cat_features, gamma\n",
        "      ))\n",
        "\n",
        "    return predictions"
      ]
    },
    {
      "cell_type": "code",
      "execution_count": null,
      "metadata": {
        "colab": {
          "base_uri": "https://localhost:8080/"
        },
        "id": "aaUIcAAbuSuf",
        "outputId": "fbf5ea7a-1417-4e0d-8c54-b3a3603aa44e"
      },
      "outputs": [
        {
          "name": "stdout",
          "output_type": "stream",
          "text": [
            "Confusion Matrix:\n",
            "[[131  28]\n",
            " [ 30  50]]\n",
            "\n",
            "Accuracy:\n",
            "0.7573221757322176\n",
            "\n",
            "Precision:\n",
            "0.6410256410256411\n",
            "\n",
            "Recall:\n",
            "0.625\n",
            "\n",
            "F1 Score:\n",
            "0.6329113924050633\n",
            "\n"
          ]
        }
      ],
      "source": [
        "k = 9  # We can choose any value of k, 9 seemed to give the best result\n",
        "cat_features = [\"age_new\"]\n",
        "num_features = X.columns.tolist()\n",
        "num_features.remove(\"age_new\")\n",
        "\n",
        "# played around with different values of gamma\n",
        "gamma = 0.5\n",
        "predicted_labels = knn_classifier(\n",
        "    X_train_normalized, y_train, X_test_normalized, k, num_features, cat_features, gamma\n",
        ")\n",
        "metrics = evaluate_model(y_test, predicted_labels)\n",
        "\n",
        "# Display the evaluation metrics\n",
        "for key, value in metrics.items():\n",
        "    print(f\"{key}:\")\n",
        "    print(value)\n",
        "    print()"
      ]
    },
    {
      "cell_type": "markdown",
      "metadata": {
        "id": "-SmjqOOixgFU"
      },
      "source": [
        "## Implementing Logistic Regression\n",
        "\n",
        "I will implement a logistic regression classifier using gradient descent. I allowed myself to use only Numpy. I will need to implement the following functions:\n",
        "\n",
        "* Sigmoid function\n",
        "* Function to compute the cost (loss) function\n",
        "* Function for gradient descent optimization\n",
        "* Function to make predictions\n",
        "* A fit function that trains the logistic regression model"
      ]
    },
    {
      "cell_type": "code",
      "execution_count": null,
      "metadata": {
        "id": "Yvsqq0-Yxi9d"
      },
      "outputs": [],
      "source": [
        "#  Sigmoid function\n",
        "def sigmoid(z: np.ndarray) -> np.ndarray:\n",
        "    \"\"\"Computes the sigmoid function.\n",
        "\n",
        "    Args:\n",
        "      z: np.ndarray, the input array.\n",
        "\n",
        "    Returns:\n",
        "      np.ndarray: The sigmoid of the input.\n",
        "    \"\"\"\n",
        "    return 1 / (1 + np.exp(-z))"
      ]
    },
    {
      "cell_type": "markdown",
      "metadata": {
        "id": "tGoTpl9ny4u3"
      },
      "source": [
        "**Implementing the log-loss function**\n",
        "\n",
        "\n",
        "The log-loss function is:\n",
        "\n",
        "$$\n",
        "Log-loss (J) = - \\frac{1}{n} \\sum_{i=1}^n [y_i ln(p_i) + (1-y_i) ln (1-p_i)]\n",
        "$$\n",
        "where `ln` is the natural log, and:  \n",
        "\n",
        "$$\n",
        "p_i  = \\frac{1}{1 + e^{-w^TX_i}}\n",
        "$$\n",
        "\n",
        "for all $i$ from 1 to $n$, if you have $n$ training samples."
      ]
    },
    {
      "cell_type": "code",
      "execution_count": null,
      "metadata": {
        "id": "Sdd5_qfty1dA"
      },
      "outputs": [],
      "source": [
        "# Loss function\n",
        "def compute_cost(X: np.ndarray, y: np.ndarray, w: np.ndarray) -> float:\n",
        "    \"\"\"Computes the cost (loss) for logistic regression.\n",
        "\n",
        "    Args:\n",
        "      X: np.ndarray, the input feature matrix.\n",
        "      y: np.ndarray, the true labels.\n",
        "      w: np.ndarray, the logistic regression coefficients.\n",
        "\n",
        "    Returns:\n",
        "      float: The computed cost.\n",
        "    \"\"\"\n",
        "    n = len(y)\n",
        "\n",
        "    z = X @ w\n",
        "    sigmoid_function = sigmoid(z)\n",
        "\n",
        "    cost_sum = 0\n",
        "    single_cost = 0\n",
        "    for i in range(n):\n",
        "      single_cost = y[i] * np.log(sigmoid_function[i]) + (1 - y[i]) * np.log(1 - sigmoid_function[i])\n",
        "      cost_sum += single_cost\n",
        "    return -(1 / n) * cost_sum"
      ]
    },
    {
      "cell_type": "markdown",
      "metadata": {
        "id": "LQClyiuxzGpJ"
      },
      "source": [
        "**Implement Gradient Descent**\n",
        "\n",
        "Now we need to code gradient descent for us to be able to find $w$ that minimizes our loss function. The partial derivative of the log-loss function wrt $w$ is:\n",
        "\n",
        "$$\n",
        "\\frac{\\partial J}{\\partial w} = \\frac{1}{n} X^T(p_i - y)\n",
        "$$"
      ]
    },
    {
      "cell_type": "code",
      "execution_count": null,
      "metadata": {
        "id": "GwN50ZkizCI2"
      },
      "outputs": [],
      "source": [
        "# Gradient descent\n",
        "def gradient_descent(X: np.ndarray, y: np.ndarray, w: np.ndarray, eta: float, num_iters: int) -> Tuple[np.ndarray, np.ndarray]:\n",
        "    \"\"\"Performs gradient descent to optimize logistic regression. Note that the\n",
        "    loop runs until n_iter, but you can also check for convergence and break\n",
        "    out of the loop earlier.\n",
        "\n",
        "    Args:\n",
        "      X: np.ndarray, the input feature matrix.\n",
        "      y: np.ndarray, the true labels.\n",
        "      w: np.ndarray, the logistic regression coefficients.\n",
        "      eta: float, the learning rate.\n",
        "      num_iters: int, number of iterations.\n",
        "\n",
        "    Returns:\n",
        "      Tuple[np.ndarray, np.ndarray]: The optimized theta and the cost history.\n",
        "    \"\"\"\n",
        "    n = len(y)\n",
        "    cost_history = np.zeros(num_iters)\n",
        "\n",
        "    for i in range(num_iters):\n",
        "        z = X @ w\n",
        "        predictions = sigmoid(z)\n",
        "        error = predictions - y\n",
        "\n",
        "        gradient = (1 / n) * (X.T @ error)\n",
        "        w -= eta * gradient\n",
        "        cost_history[i] = compute_cost(X, y, w)\n",
        "\n",
        "        step_size = np.linalg.norm(gradient) * eta\n",
        "        if step_size < 0.001: # i have read somewhere that 0.001 is a good minimal step size. so i hardcoded it for convergence\n",
        "            cost_history = cost_history[:i+1]\n",
        "            break\n",
        "\n",
        "    return w, cost_history"
      ]
    },
    {
      "cell_type": "markdown",
      "metadata": {
        "id": "mdl19PL50Hus"
      },
      "source": [
        "Lets write the prediction function."
      ]
    },
    {
      "cell_type": "code",
      "execution_count": null,
      "metadata": {
        "id": "fulls6jN0IXY"
      },
      "outputs": [],
      "source": [
        "# Predict function\n",
        "def predict(X: np.ndarray, w: np.ndarray) -> np.ndarray:\n",
        "    \"\"\"Predicts binary labels for input data using logistic regression.\n",
        "\n",
        "    Args:\n",
        "      X: np.ndarray, the input feature matrix.\n",
        "      w: np.ndarray, the logistic regression coefficients.\n",
        "\n",
        "    Returns:\n",
        "      np.ndarray: Predicted labels (0 or 1).\n",
        "    \"\"\"\n",
        "    X = np.hstack((np.ones((X.shape[0], 1)), X))  # Add bias term (w0)\n",
        "    z = X @ w\n",
        "    probabilities = sigmoid(z)\n",
        "    predicted_labels = []\n",
        "\n",
        "    for i in range(len(probabilities)):\n",
        "      if probabilities[i] < 0.5:\n",
        "        predicted_labels.append(0)\n",
        "      else:\n",
        "        predicted_labels.append(1)\n",
        "\n",
        "    return np.array(predicted_labels)"
      ]
    },
    {
      "cell_type": "markdown",
      "metadata": {
        "id": "MOB1YvDj0Zeo"
      },
      "source": [
        "Lets write the `fit` function"
      ]
    },
    {
      "cell_type": "code",
      "execution_count": null,
      "metadata": {
        "id": "2zH-xgNv0ewD"
      },
      "outputs": [],
      "source": [
        "# Train function\n",
        "def fit(\n",
        "    X: np.ndarray, y: np.ndarray, eta: float = 0.01, num_iters: int = 1000\n",
        ") -> Tuple[np.ndarray, np.ndarray]:\n",
        "    \"\"\"Trains the logistic regression model.\n",
        "\n",
        "    Args:\n",
        "      X: np.ndarray, the input feature matrix.\n",
        "      y: np.ndarray, the true labels.\n",
        "      eta: float, the learning rate.\n",
        "      num_iters: int, number of iterations.\n",
        "\n",
        "    Returns:\n",
        "      Tuple[np.ndarray, np.ndarray]: The optimized w and cost history.\n",
        "    \"\"\"\n",
        "    X = np.hstack((np.ones((X.shape[0], 1)), X))  # Add bias term (w0)\n",
        "\n",
        "    # optimize w\n",
        "    logistic_regression_coefficients = np.zeros(X.shape[1])\n",
        "    w, cost_history = gradient_descent(X, y, logistic_regression_coefficients, eta, num_iters)\n",
        "\n",
        "    return w, cost_history"
      ]
    },
    {
      "cell_type": "markdown",
      "metadata": {
        "id": "b0HSkacJ0wgm"
      },
      "source": [
        "### Applying Logistic Regression\n",
        "\n",
        "Let's use the above defined Logistic regression functions to predict `Outcome` in the diabetes dataset.\n",
        "\n",
        "Since logistic regression does not allow categorical variables, we need to create dummy variables for `age_new`."
      ]
    },
    {
      "cell_type": "code",
      "execution_count": null,
      "metadata": {
        "id": "erT6ct3I0vSq"
      },
      "outputs": [],
      "source": [
        "# Train the logistic regression model\n",
        "eta = 0.01\n",
        "num_iters = 1000\n",
        "\n",
        "X_train_with_dummies = pd.get_dummies(X_train_standardized, columns=['age_new'], drop_first=True, dtype = int)\n",
        "X_test_with_dummies = pd.get_dummies(X_test_standardized, columns=['age_new'], drop_first=True, dtype = int)\n",
        "\n",
        "w, cost_history = fit(X_train_with_dummies, y_train, eta, num_iters)"
      ]
    },
    {
      "cell_type": "code",
      "execution_count": null,
      "metadata": {
        "colab": {
          "base_uri": "https://localhost:8080/"
        },
        "collapsed": true,
        "id": "Wz69o00p3giP",
        "outputId": "fbf8052d-dfa1-4843-f08b-7ca754d92047"
      },
      "outputs": [
        {
          "name": "stdout",
          "output_type": "stream",
          "text": [
            "Confusion Matrix:\n",
            "[[143  16]\n",
            " [ 36  44]]\n",
            "\n",
            "Accuracy:\n",
            "0.7824267782426778\n",
            "\n",
            "Precision:\n",
            "0.7333333333333333\n",
            "\n",
            "Recall:\n",
            "0.55\n",
            "\n",
            "F1 Score:\n",
            "0.6285714285714286\n",
            "\n"
          ]
        }
      ],
      "source": [
        "preds = predict(X_test_with_dummies, w)\n",
        "metrics = evaluate_model(y_test, preds)\n",
        "\n",
        "# Display the evaluation metrics\n",
        "for key, value in metrics.items():\n",
        "    print(f\"{key}:\")\n",
        "    print(value)\n",
        "    print()"
      ]
    },
    {
      "cell_type": "code",
      "execution_count": null,
      "metadata": {
        "colab": {
          "base_uri": "https://localhost:8080/",
          "height": 472
        },
        "id": "eteEJgkSimoP",
        "outputId": "514e82eb-c0ab-4bcc-b7ca-f51f7bb3a3ec"
      },
      "outputs": [
        {
          "data": {
            "image/png": "[encoded data removed]",
            "text/plain": [
              "<Figure size 640x480 with 1 Axes>"
            ]
          },
          "metadata": {},
          "output_type": "display_data"
        }
      ],
      "source": [
        "import matplotlib.pyplot as plt\n",
        "\n",
        "plt.plot(range(len(cost_history)), cost_history, marker='o', color='b')\n",
        "plt.xlabel(\"Iteration\")\n",
        "plt.ylabel(\"Cost\")\n",
        "plt.title(\"Cost Function over Iterations\")\n",
        "plt.show()"
      ]
    }
  ],
  "metadata": {
    "colab": {
      "provenance": [],
      "toc_visible": true
    },
    "kernelspec": {
      "display_name": "Python 3",
      "name": "python3"
    },
    "language_info": {
      "name": "python"
    }
  },
  "nbformat": 4,
  "nbformat_minor": 0
}
