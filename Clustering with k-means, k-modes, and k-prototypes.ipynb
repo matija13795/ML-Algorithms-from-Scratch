{
  "cells": [
    {
      "cell_type": "markdown",
      "metadata": {
        "id": "dsV5Lixi_e0V"
      },
      "source": [
        "# Credit Approval Data Clustering with k-means, k-modes, and k-prototypes\n",
        "\n",
        "*Objective:*\n",
        "This notebook involves clustering the Credit Approval Dataset using k-means, k-modes, and k-prototypes algorithms, implemented from scratch. The goal is to group credit applicants into clusters based on numeric, categorical, and mixed attributes. Each algorithm will be applied to the dataset to understand how clustering performance is influenced by the different types of features.\n",
        "\n",
        "I deliberately chose an algorithm where we have the target variable available. So we can compare the performance of the algorithms.\n",
        "\n",
        "[Here](https://archive.ics.uci.edu/dataset/27/credit+approval) is a detailed look at the data"
      ]
    },
    {
      "cell_type": "markdown",
      "metadata": {
        "id": "Wx9MdoWAG6Ry"
      },
      "source": [
        "## Step 1: Data Loading and Preprocessing\n",
        "\n",
        "Objective: Load the dataset, handle missing values, and encode categorical features manually for use in the k-means, k-modes, and k-prototypes algorithms.\n",
        "As you can see no column names are provided. So we have no idea what these variables stand for. Here is the information that is provided:\n",
        "\n",
        "    A1:\tb, a.\n",
        "    A2:\tcontinuous.\n",
        "    A3:\tcontinuous.\n",
        "    A4:\tu, y, l, t.\n",
        "    A5:\tg, p, gg.\n",
        "    A6:\tc, d, cc, i, j, k, m, r, q, w, x, e, aa, ff.\n",
        "    A7:\tv, h, bb, j, n, z, dd, ff, o.\n",
        "    A8:\tcontinuous.\n",
        "    A9:\tt, f.\n",
        "    A10:\tt, f.\n",
        "    A11:\tcontinuous.\n",
        "    A12:\tt, f.\n",
        "    A13:\tg, p, s.\n",
        "    A14:\tcontinuous.\n",
        "    A15:\tcontinuous.\n",
        "    A16: +,-         (class attribute)\n",
        "  \n",
        "\n",
        "The task is:\n",
        "\n",
        "1. Read in the dataset, label the columns appropriately, making sure we label the target column as \"target\" to avoid any confusion.\n",
        "2. Deal with the missing values. For this dataset, the missing values are encoded as \"?\". We can tell `pd.read_csv()` how missing values are encoded using the `na_values=` argument. Then it will read the missing values correctly. To keep things simple, we will drop the rows with missing values since there are not that many of them in the first place.\n",
        "\n"
      ]
    },
    {
      "cell_type": "code",
      "execution_count": null,
      "metadata": {
        "id": "9ChSGuAlM7WK"
      },
      "outputs": [],
      "source": [
        "import seaborn as sns\n",
        "import pandas as pd\n",
        "import numpy as np\n",
        "from sklearn.metrics import accuracy_score\n",
        "import matplotlib.pyplot as plt\n",
        "pd.options.mode.copy_on_write = True\n",
        "np.set_printoptions(suppress=True,precision=4)"
      ]
    },
    {
      "cell_type": "code",
      "execution_count": null,
      "metadata": {
        "id": "XzBHzkRl-BL4"
      },
      "outputs": [],
      "source": [
        "# load the Credit Approval Dataset\n",
        "url = 'https://archive.ics.uci.edu/ml/machine-learning-databases/credit-screening/crx.data'\n",
        "credit = pd.read_csv(url, header=None, na_values='?')"
      ]
    },
    {
      "cell_type": "code",
      "execution_count": null,
      "metadata": {
        "colab": {
          "base_uri": "https://localhost:8080/",
          "height": 206
        },
        "id": "cRvrFF7kHsYD",
        "outputId": "6c88a32c-ee32-4a8e-ae88-b022aaac7c9c"
      },
      "outputs": [
        {
          "data": {
            "application/vnd.google.colaboratory.intrinsic+json": {
              "summary": "{\n  \"name\": \"credit\",\n  \"rows\": 690,\n  \"fields\": [\n    {\n      \"column\": \"A1\",\n      \"properties\": {\n        \"dtype\": \"category\",\n        \"num_unique_values\": 2,\n        \"samples\": [\n          \"a\",\n          \"b\"\n        ],\n        \"semantic_type\": \"\",\n        \"description\": \"\"\n      }\n    },\n    {\n      \"column\": \"A2\",\n      \"properties\": {\n        \"dtype\": \"number\",\n        \"std\": 11.957862498270877,\n        \"min\": 13.75,\n        \"max\": 80.25,\n        \"num_unique_values\": 349,\n        \"samples\": [\n          34.5,\n          31.58\n        ],\n        \"semantic_type\": \"\",\n        \"description\": \"\"\n      }\n    },\n    {\n      \"column\": \"A3\",\n      \"properties\": {\n        \"dtype\": \"number\",\n        \"std\": 4.978163248528541,\n        \"min\": 0.0,\n        \"max\": 28.0,\n        \"num_unique_values\": 215,\n        \"samples\": [\n          10.415,\n          3.29\n        ],\n        \"semantic_type\": \"\",\n        \"description\": \"\"\n      }\n    },\n    {\n      \"column\": \"A4\",\n      \"properties\": {\n        \"dtype\": \"category\",\n        \"num_unique_values\": 3,\n        \"samples\": [\n          \"u\",\n          \"y\"\n        ],\n        \"semantic_type\": \"\",\n        \"description\": \"\"\n      }\n    },\n    {\n      \"column\": \"A5\",\n      \"properties\": {\n        \"dtype\": \"category\",\n        \"num_unique_values\": 3,\n        \"samples\": [\n          \"g\",\n          \"p\"\n        ],\n        \"semantic_type\": \"\",\n        \"description\": \"\"\n      }\n    },\n    {\n      \"column\": \"A6\",\n      \"properties\": {\n        \"dtype\": \"category\",\n        \"num_unique_values\": 14,\n        \"samples\": [\n          \"i\",\n          \"aa\"\n        ],\n        \"semantic_type\": \"\",\n        \"description\": \"\"\n      }\n    },\n    {\n      \"column\": \"A7\",\n      \"properties\": {\n        \"dtype\": \"category\",\n        \"num_unique_values\": 9,\n        \"samples\": [\n          \"dd\",\n          \"h\"\n        ],\n        \"semantic_type\": \"\",\n        \"description\": \"\"\n      }\n    },\n    {\n      \"column\": \"A8\",\n      \"properties\": {\n        \"dtype\": \"number\",\n        \"std\": 3.3465133592781333,\n        \"min\": 0.0,\n        \"max\": 28.5,\n        \"num_unique_values\": 132,\n        \"samples\": [\n          13.5,\n          2.375\n        ],\n        \"semantic_type\": \"\",\n        \"description\": \"\"\n      }\n    },\n    {\n      \"column\": \"A9\",\n      \"properties\": {\n        \"dtype\": \"category\",\n        \"num_unique_values\": 2,\n        \"samples\": [\n          \"f\",\n          \"t\"\n        ],\n        \"semantic_type\": \"\",\n        \"description\": \"\"\n      }\n    },\n    {\n      \"column\": \"A10\",\n      \"properties\": {\n        \"dtype\": \"category\",\n        \"num_unique_values\": 2,\n        \"samples\": [\n          \"f\",\n          \"t\"\n        ],\n        \"semantic_type\": \"\",\n        \"description\": \"\"\n      }\n    },\n    {\n      \"column\": \"A11\",\n      \"properties\": {\n        \"dtype\": \"number\",\n        \"std\": 4,\n        \"min\": 0,\n        \"max\": 67,\n        \"num_unique_values\": 23,\n        \"samples\": [\n          23,\n          9\n        ],\n        \"semantic_type\": \"\",\n        \"description\": \"\"\n      }\n    },\n    {\n      \"column\": \"A12\",\n      \"properties\": {\n        \"dtype\": \"category\",\n        \"num_unique_values\": 2,\n        \"samples\": [\n          \"t\",\n          \"f\"\n        ],\n        \"semantic_type\": \"\",\n        \"description\": \"\"\n      }\n    },\n    {\n      \"column\": \"A13\",\n      \"properties\": {\n        \"dtype\": \"category\",\n        \"num_unique_values\": 3,\n        \"samples\": [\n          \"g\",\n          \"s\"\n        ],\n        \"semantic_type\": \"\",\n        \"description\": \"\"\n      }\n    },\n    {\n      \"column\": \"A14\",\n      \"properties\": {\n        \"dtype\": \"number\",\n        \"std\": 173.80676822523824,\n        \"min\": 0.0,\n        \"max\": 2000.0,\n        \"num_unique_values\": 170,\n        \"samples\": [\n          263.0,\n          400.0\n        ],\n        \"semantic_type\": \"\",\n        \"description\": \"\"\n      }\n    },\n    {\n      \"column\": \"A15\",\n      \"properties\": {\n        \"dtype\": \"number\",\n        \"std\": 5210,\n        \"min\": 0,\n        \"max\": 100000,\n        \"num_unique_values\": 240,\n        \"samples\": [\n          100,\n          314\n        ],\n        \"semantic_type\": \"\",\n        \"description\": \"\"\n      }\n    },\n    {\n      \"column\": \"A16\",\n      \"properties\": {\n        \"dtype\": \"category\",\n        \"num_unique_values\": 2,\n        \"samples\": [\n          \"-\",\n          \"+\"\n        ],\n        \"semantic_type\": \"\",\n        \"description\": \"\"\n      }\n    }\n  ]\n}",
              "type": "dataframe",
              "variable_name": "credit"
            },
            "text/html": [
              "\n",
              "  <div id=\"df-f1f3d7ea-6e65-41a4-9d78-bfdcad5f3fa2\" class=\"colab-df-container\">\n",
              "    <div>\n",
              "<style scoped>\n",
              "    .dataframe tbody tr th:only-of-type {\n",
              "        vertical-align: middle;\n",
              "    }\n",
              "\n",
              "    .dataframe tbody tr th {\n",
              "        vertical-align: top;\n",
              "    }\n",
              "\n",
              "    .dataframe thead th {\n",
              "        text-align: right;\n",
              "    }\n",
              "</style>\n",
              "<table border=\"1\" class=\"dataframe\">\n",
              "  <thead>\n",
              "    <tr style=\"text-align: right;\">\n",
              "      <th></th>\n",
              "      <th>A1</th>\n",
              "      <th>A2</th>\n",
              "      <th>A3</th>\n",
              "      <th>A4</th>\n",
              "      <th>A5</th>\n",
              "      <th>A6</th>\n",
              "      <th>A7</th>\n",
              "      <th>A8</th>\n",
              "      <th>A9</th>\n",
              "      <th>A10</th>\n",
              "      <th>A11</th>\n",
              "      <th>A12</th>\n",
              "      <th>A13</th>\n",
              "      <th>A14</th>\n",
              "      <th>A15</th>\n",
              "      <th>A16</th>\n",
              "    </tr>\n",
              "  </thead>\n",
              "  <tbody>\n",
              "    <tr>\n",
              "      <th>0</th>\n",
              "      <td>b</td>\n",
              "      <td>30.83</td>\n",
              "      <td>0.000</td>\n",
              "      <td>u</td>\n",
              "      <td>g</td>\n",
              "      <td>w</td>\n",
              "      <td>v</td>\n",
              "      <td>1.25</td>\n",
              "      <td>t</td>\n",
              "      <td>t</td>\n",
              "      <td>1</td>\n",
              "      <td>f</td>\n",
              "      <td>g</td>\n",
              "      <td>202.0</td>\n",
              "      <td>0</td>\n",
              "      <td>+</td>\n",
              "    </tr>\n",
              "    <tr>\n",
              "      <th>1</th>\n",
              "      <td>a</td>\n",
              "      <td>58.67</td>\n",
              "      <td>4.460</td>\n",
              "      <td>u</td>\n",
              "      <td>g</td>\n",
              "      <td>q</td>\n",
              "      <td>h</td>\n",
              "      <td>3.04</td>\n",
              "      <td>t</td>\n",
              "      <td>t</td>\n",
              "      <td>6</td>\n",
              "      <td>f</td>\n",
              "      <td>g</td>\n",
              "      <td>43.0</td>\n",
              "      <td>560</td>\n",
              "      <td>+</td>\n",
              "    </tr>\n",
              "    <tr>\n",
              "      <th>2</th>\n",
              "      <td>a</td>\n",
              "      <td>24.50</td>\n",
              "      <td>0.500</td>\n",
              "      <td>u</td>\n",
              "      <td>g</td>\n",
              "      <td>q</td>\n",
              "      <td>h</td>\n",
              "      <td>1.50</td>\n",
              "      <td>t</td>\n",
              "      <td>f</td>\n",
              "      <td>0</td>\n",
              "      <td>f</td>\n",
              "      <td>g</td>\n",
              "      <td>280.0</td>\n",
              "      <td>824</td>\n",
              "      <td>+</td>\n",
              "    </tr>\n",
              "    <tr>\n",
              "      <th>3</th>\n",
              "      <td>b</td>\n",
              "      <td>27.83</td>\n",
              "      <td>1.540</td>\n",
              "      <td>u</td>\n",
              "      <td>g</td>\n",
              "      <td>w</td>\n",
              "      <td>v</td>\n",
              "      <td>3.75</td>\n",
              "      <td>t</td>\n",
              "      <td>t</td>\n",
              "      <td>5</td>\n",
              "      <td>t</td>\n",
              "      <td>g</td>\n",
              "      <td>100.0</td>\n",
              "      <td>3</td>\n",
              "      <td>+</td>\n",
              "    </tr>\n",
              "    <tr>\n",
              "      <th>4</th>\n",
              "      <td>b</td>\n",
              "      <td>20.17</td>\n",
              "      <td>5.625</td>\n",
              "      <td>u</td>\n",
              "      <td>g</td>\n",
              "      <td>w</td>\n",
              "      <td>v</td>\n",
              "      <td>1.71</td>\n",
              "      <td>t</td>\n",
              "      <td>f</td>\n",
              "      <td>0</td>\n",
              "      <td>f</td>\n",
              "      <td>s</td>\n",
              "      <td>120.0</td>\n",
              "      <td>0</td>\n",
              "      <td>+</td>\n",
              "    </tr>\n",
              "  </tbody>\n",
              "</table>\n",
              "</div>\n",
              "    <div class=\"colab-df-buttons\">\n",
              "\n",
              "  <div class=\"colab-df-container\">\n",
              "    <button class=\"colab-df-convert\" onclick=\"convertToInteractive('df-f1f3d7ea-6e65-41a4-9d78-bfdcad5f3fa2')\"\n",
              "            title=\"Convert this dataframe to an interactive table.\"\n",
              "            style=\"display:none;\">\n",
              "\n",
              "  <svg xmlns=\"http://www.w3.org/2000/svg\" height=\"24px\" viewBox=\"0 -960 960 960\">\n",
              "    <path d=\"M120-120v-720h720v720H120Zm60-500h600v-160H180v160Zm220 220h160v-160H400v160Zm0 220h160v-160H400v160ZM180-400h160v-160H180v160Zm440 0h160v-160H620v160ZM180-180h160v-160H180v160Zm440 0h160v-160H620v160Z\"/>\n",
              "  </svg>\n",
              "    </button>\n",
              "\n",
              "  <style>\n",
              "    .colab-df-container {\n",
              "      display:flex;\n",
              "      gap: 12px;\n",
              "    }\n",
              "\n",
              "    .colab-df-convert {\n",
              "      background-color: #E8F0FE;\n",
              "      border: none;\n",
              "      border-radius: 50%;\n",
              "      cursor: pointer;\n",
              "      display: none;\n",
              "      fill: #1967D2;\n",
              "      height: 32px;\n",
              "      padding: 0 0 0 0;\n",
              "      width: 32px;\n",
              "    }\n",
              "\n",
              "    .colab-df-convert:hover {\n",
              "      background-color: #E2EBFA;\n",
              "      box-shadow: 0px 1px 2px rgba(60, 64, 67, 0.3), 0px 1px 3px 1px rgba(60, 64, 67, 0.15);\n",
              "      fill: #174EA6;\n",
              "    }\n",
              "\n",
              "    .colab-df-buttons div {\n",
              "      margin-bottom: 4px;\n",
              "    }\n",
              "\n",
              "    [theme=dark] .colab-df-convert {\n",
              "      background-color: #3B4455;\n",
              "      fill: #D2E3FC;\n",
              "    }\n",
              "\n",
              "    [theme=dark] .colab-df-convert:hover {\n",
              "      background-color: #434B5C;\n",
              "      box-shadow: 0px 1px 3px 1px rgba(0, 0, 0, 0.15);\n",
              "      filter: drop-shadow(0px 1px 2px rgba(0, 0, 0, 0.3));\n",
              "      fill: #FFFFFF;\n",
              "    }\n",
              "  </style>\n",
              "\n",
              "    <script>\n",
              "      const buttonEl =\n",
              "        document.querySelector('#df-f1f3d7ea-6e65-41a4-9d78-bfdcad5f3fa2 button.colab-df-convert');\n",
              "      buttonEl.style.display =\n",
              "        google.colab.kernel.accessAllowed ? 'block' : 'none';\n",
              "\n",
              "      async function convertToInteractive(key) {\n",
              "        const element = document.querySelector('#df-f1f3d7ea-6e65-41a4-9d78-bfdcad5f3fa2');\n",
              "        const dataTable =\n",
              "          await google.colab.kernel.invokeFunction('convertToInteractive',\n",
              "                                                    [key], {});\n",
              "        if (!dataTable) return;\n",
              "\n",
              "        const docLinkHtml = 'Like what you see? Visit the ' +\n",
              "          '<a target=\"_blank\" href=https://colab.research.google.com/notebooks/data_table.ipynb>data table notebook</a>'\n",
              "          + ' to learn more about interactive tables.';\n",
              "        element.innerHTML = '';\n",
              "        dataTable['output_type'] = 'display_data';\n",
              "        await google.colab.output.renderOutput(dataTable, element);\n",
              "        const docLink = document.createElement('div');\n",
              "        docLink.innerHTML = docLinkHtml;\n",
              "        element.appendChild(docLink);\n",
              "      }\n",
              "    </script>\n",
              "  </div>\n",
              "\n",
              "\n",
              "<div id=\"df-1206c90d-b030-4be7-a8dd-826f59e233f3\">\n",
              "  <button class=\"colab-df-quickchart\" onclick=\"quickchart('df-1206c90d-b030-4be7-a8dd-826f59e233f3')\"\n",
              "            title=\"Suggest charts\"\n",
              "            style=\"display:none;\">\n",
              "\n",
              "<svg xmlns=\"http://www.w3.org/2000/svg\" height=\"24px\"viewBox=\"0 0 24 24\"\n",
              "     width=\"24px\">\n",
              "    <g>\n",
              "        <path d=\"M19 3H5c-1.1 0-2 .9-2 2v14c0 1.1.9 2 2 2h14c1.1 0 2-.9 2-2V5c0-1.1-.9-2-2-2zM9 17H7v-7h2v7zm4 0h-2V7h2v10zm4 0h-2v-4h2v4z\"/>\n",
              "    </g>\n",
              "</svg>\n",
              "  </button>\n",
              "\n",
              "<style>\n",
              "  .colab-df-quickchart {\n",
              "      --bg-color: #E8F0FE;\n",
              "      --fill-color: #1967D2;\n",
              "      --hover-bg-color: #E2EBFA;\n",
              "      --hover-fill-color: #174EA6;\n",
              "      --disabled-fill-color: #AAA;\n",
              "      --disabled-bg-color: #DDD;\n",
              "  }\n",
              "\n",
              "  [theme=dark] .colab-df-quickchart {\n",
              "      --bg-color: #3B4455;\n",
              "      --fill-color: #D2E3FC;\n",
              "      --hover-bg-color: #434B5C;\n",
              "      --hover-fill-color: #FFFFFF;\n",
              "      --disabled-bg-color: #3B4455;\n",
              "      --disabled-fill-color: #666;\n",
              "  }\n",
              "\n",
              "  .colab-df-quickchart {\n",
              "    background-color: var(--bg-color);\n",
              "    border: none;\n",
              "    border-radius: 50%;\n",
              "    cursor: pointer;\n",
              "    display: none;\n",
              "    fill: var(--fill-color);\n",
              "    height: 32px;\n",
              "    padding: 0;\n",
              "    width: 32px;\n",
              "  }\n",
              "\n",
              "  .colab-df-quickchart:hover {\n",
              "    background-color: var(--hover-bg-color);\n",
              "    box-shadow: 0 1px 2px rgba(60, 64, 67, 0.3), 0 1px 3px 1px rgba(60, 64, 67, 0.15);\n",
              "    fill: var(--button-hover-fill-color);\n",
              "  }\n",
              "\n",
              "  .colab-df-quickchart-complete:disabled,\n",
              "  .colab-df-quickchart-complete:disabled:hover {\n",
              "    background-color: var(--disabled-bg-color);\n",
              "    fill: var(--disabled-fill-color);\n",
              "    box-shadow: none;\n",
              "  }\n",
              "\n",
              "  .colab-df-spinner {\n",
              "    border: 2px solid var(--fill-color);\n",
              "    border-color: transparent;\n",
              "    border-bottom-color: var(--fill-color);\n",
              "    animation:\n",
              "      spin 1s steps(1) infinite;\n",
              "  }\n",
              "\n",
              "  @keyframes spin {\n",
              "    0% {\n",
              "      border-color: transparent;\n",
              "      border-bottom-color: var(--fill-color);\n",
              "      border-left-color: var(--fill-color);\n",
              "    }\n",
              "    20% {\n",
              "      border-color: transparent;\n",
              "      border-left-color: var(--fill-color);\n",
              "      border-top-color: var(--fill-color);\n",
              "    }\n",
              "    30% {\n",
              "      border-color: transparent;\n",
              "      border-left-color: var(--fill-color);\n",
              "      border-top-color: var(--fill-color);\n",
              "      border-right-color: var(--fill-color);\n",
              "    }\n",
              "    40% {\n",
              "      border-color: transparent;\n",
              "      border-right-color: var(--fill-color);\n",
              "      border-top-color: var(--fill-color);\n",
              "    }\n",
              "    60% {\n",
              "      border-color: transparent;\n",
              "      border-right-color: var(--fill-color);\n",
              "    }\n",
              "    80% {\n",
              "      border-color: transparent;\n",
              "      border-right-color: var(--fill-color);\n",
              "      border-bottom-color: var(--fill-color);\n",
              "    }\n",
              "    90% {\n",
              "      border-color: transparent;\n",
              "      border-bottom-color: var(--fill-color);\n",
              "    }\n",
              "  }\n",
              "</style>\n",
              "\n",
              "  <script>\n",
              "    async function quickchart(key) {\n",
              "      const quickchartButtonEl =\n",
              "        document.querySelector('#' + key + ' button');\n",
              "      quickchartButtonEl.disabled = true;  // To prevent multiple clicks.\n",
              "      quickchartButtonEl.classList.add('colab-df-spinner');\n",
              "      try {\n",
              "        const charts = await google.colab.kernel.invokeFunction(\n",
              "            'suggestCharts', [key], {});\n",
              "      } catch (error) {\n",
              "        console.error('Error during call to suggestCharts:', error);\n",
              "      }\n",
              "      quickchartButtonEl.classList.remove('colab-df-spinner');\n",
              "      quickchartButtonEl.classList.add('colab-df-quickchart-complete');\n",
              "    }\n",
              "    (() => {\n",
              "      let quickchartButtonEl =\n",
              "        document.querySelector('#df-1206c90d-b030-4be7-a8dd-826f59e233f3 button');\n",
              "      quickchartButtonEl.style.display =\n",
              "        google.colab.kernel.accessAllowed ? 'block' : 'none';\n",
              "    })();\n",
              "  </script>\n",
              "</div>\n",
              "\n",
              "    </div>\n",
              "  </div>\n"
            ],
            "text/plain": [
              "  A1     A2     A3 A4 A5 A6 A7    A8 A9 A10  A11 A12 A13    A14  A15 A16\n",
              "0  b  30.83  0.000  u  g  w  v  1.25  t   t    1   f   g  202.0    0   +\n",
              "1  a  58.67  4.460  u  g  q  h  3.04  t   t    6   f   g   43.0  560   +\n",
              "2  a  24.50  0.500  u  g  q  h  1.50  t   f    0   f   g  280.0  824   +\n",
              "3  b  27.83  1.540  u  g  w  v  3.75  t   t    5   t   g  100.0    3   +\n",
              "4  b  20.17  5.625  u  g  w  v  1.71  t   f    0   f   s  120.0    0   +"
            ]
          },
          "execution_count": 21,
          "metadata": {},
          "output_type": "execute_result"
        }
      ],
      "source": [
        "# add the column names\n",
        "credit.columns = [\"A\" + str(x) for x in range(1, 17)]\n",
        "credit.head()"
      ]
    },
    {
      "cell_type": "code",
      "execution_count": null,
      "metadata": {
        "id": "YnNaxuDwMdbD"
      },
      "outputs": [],
      "source": [
        "# drop missing rows\n",
        "credit = credit.dropna()"
      ]
    },
    {
      "cell_type": "code",
      "execution_count": null,
      "metadata": {
        "id": "7blPINQwanTK"
      },
      "outputs": [],
      "source": [
        "# lets reset the index since we dropped some rows\n",
        "credit.reset_index(inplace=True, drop=True)"
      ]
    },
    {
      "cell_type": "markdown",
      "metadata": {
        "id": "NorPwq5SMfj_"
      },
      "source": [
        "## Step 2: Basic Data Exploration [5 points]\n",
        "\n",
        "Let's do some basic EDA. Specifically, let's make some summary tables, some charts, and some insights that we gather from the exploration."
      ]
    },
    {
      "cell_type": "code",
      "execution_count": null,
      "metadata": {
        "colab": {
          "base_uri": "https://localhost:8080/",
          "height": 300
        },
        "id": "BivICgxwMtHg",
        "outputId": "eb1dada0-1851-4d42-fa1f-60bff0318f36"
      },
      "outputs": [
        {
          "data": {
            "application/vnd.google.colaboratory.intrinsic+json": {
              "summary": "{\n  \"name\": \"continuous_variables\",\n  \"rows\": 8,\n  \"fields\": [\n    {\n      \"column\": \"A2\",\n      \"properties\": {\n        \"dtype\": \"number\",\n        \"std\": 220.53820805078558,\n        \"min\": 11.838267107399854,\n        \"max\": 653.0,\n        \"num_unique_values\": 8,\n        \"samples\": [\n          31.50381316998469,\n          28.42,\n          653.0\n        ],\n        \"semantic_type\": \"\",\n        \"description\": \"\"\n      }\n    },\n    {\n      \"column\": \"A3\",\n      \"properties\": {\n        \"dtype\": \"number\",\n        \"std\": 228.55627953268524,\n        \"min\": 0.0,\n        \"max\": 653.0,\n        \"num_unique_values\": 8,\n        \"samples\": [\n          4.829532924961716,\n          2.835,\n          653.0\n        ],\n        \"semantic_type\": \"\",\n        \"description\": \"\"\n      }\n    },\n    {\n      \"column\": \"A8\",\n      \"properties\": {\n        \"dtype\": \"number\",\n        \"std\": 229.15271965078534,\n        \"min\": 0.0,\n        \"max\": 653.0,\n        \"num_unique_values\": 8,\n        \"samples\": [\n          2.244295558958652,\n          1.0,\n          653.0\n        ],\n        \"semantic_type\": \"\",\n        \"description\": \"\"\n      }\n    },\n    {\n      \"column\": \"A11\",\n      \"properties\": {\n        \"dtype\": \"number\",\n        \"std\": 228.11009242132883,\n        \"min\": 0.0,\n        \"max\": 653.0,\n        \"num_unique_values\": 6,\n        \"samples\": [\n          653.0,\n          2.5022970903522204,\n          67.0\n        ],\n        \"semantic_type\": \"\",\n        \"description\": \"\"\n      }\n    },\n    {\n      \"column\": \"A14\",\n      \"properties\": {\n        \"dtype\": \"number\",\n        \"std\": 660.637717945961,\n        \"min\": 0.0,\n        \"max\": 2000.0,\n        \"num_unique_values\": 8,\n        \"samples\": [\n          180.35987748851454,\n          160.0,\n          653.0\n        ],\n        \"semantic_type\": \"\",\n        \"description\": \"\"\n      }\n    },\n    {\n      \"column\": \"A15\",\n      \"properties\": {\n        \"dtype\": \"number\",\n        \"std\": 35029.33069952745,\n        \"min\": 0.0,\n        \"max\": 100000.0,\n        \"num_unique_values\": 7,\n        \"samples\": [\n          653.0,\n          1013.7611026033691,\n          400.0\n        ],\n        \"semantic_type\": \"\",\n        \"description\": \"\"\n      }\n    }\n  ]\n}",
              "type": "dataframe"
            },
            "text/html": [
              "\n",
              "  <div id=\"df-4960d884-c20e-424e-a377-176609b1317c\" class=\"colab-df-container\">\n",
              "    <div>\n",
              "<style scoped>\n",
              "    .dataframe tbody tr th:only-of-type {\n",
              "        vertical-align: middle;\n",
              "    }\n",
              "\n",
              "    .dataframe tbody tr th {\n",
              "        vertical-align: top;\n",
              "    }\n",
              "\n",
              "    .dataframe thead th {\n",
              "        text-align: right;\n",
              "    }\n",
              "</style>\n",
              "<table border=\"1\" class=\"dataframe\">\n",
              "  <thead>\n",
              "    <tr style=\"text-align: right;\">\n",
              "      <th></th>\n",
              "      <th>A2</th>\n",
              "      <th>A3</th>\n",
              "      <th>A8</th>\n",
              "      <th>A11</th>\n",
              "      <th>A14</th>\n",
              "      <th>A15</th>\n",
              "    </tr>\n",
              "  </thead>\n",
              "  <tbody>\n",
              "    <tr>\n",
              "      <th>count</th>\n",
              "      <td>653.000000</td>\n",
              "      <td>653.000000</td>\n",
              "      <td>653.000000</td>\n",
              "      <td>653.000000</td>\n",
              "      <td>653.000000</td>\n",
              "      <td>653.000000</td>\n",
              "    </tr>\n",
              "    <tr>\n",
              "      <th>mean</th>\n",
              "      <td>31.503813</td>\n",
              "      <td>4.829533</td>\n",
              "      <td>2.244296</td>\n",
              "      <td>2.502297</td>\n",
              "      <td>180.359877</td>\n",
              "      <td>1013.761103</td>\n",
              "    </tr>\n",
              "    <tr>\n",
              "      <th>std</th>\n",
              "      <td>11.838267</td>\n",
              "      <td>5.027077</td>\n",
              "      <td>3.371120</td>\n",
              "      <td>4.968497</td>\n",
              "      <td>168.296811</td>\n",
              "      <td>5253.278504</td>\n",
              "    </tr>\n",
              "    <tr>\n",
              "      <th>min</th>\n",
              "      <td>13.750000</td>\n",
              "      <td>0.000000</td>\n",
              "      <td>0.000000</td>\n",
              "      <td>0.000000</td>\n",
              "      <td>0.000000</td>\n",
              "      <td>0.000000</td>\n",
              "    </tr>\n",
              "    <tr>\n",
              "      <th>25%</th>\n",
              "      <td>22.580000</td>\n",
              "      <td>1.040000</td>\n",
              "      <td>0.165000</td>\n",
              "      <td>0.000000</td>\n",
              "      <td>73.000000</td>\n",
              "      <td>0.000000</td>\n",
              "    </tr>\n",
              "    <tr>\n",
              "      <th>50%</th>\n",
              "      <td>28.420000</td>\n",
              "      <td>2.835000</td>\n",
              "      <td>1.000000</td>\n",
              "      <td>0.000000</td>\n",
              "      <td>160.000000</td>\n",
              "      <td>5.000000</td>\n",
              "    </tr>\n",
              "    <tr>\n",
              "      <th>75%</th>\n",
              "      <td>38.250000</td>\n",
              "      <td>7.500000</td>\n",
              "      <td>2.625000</td>\n",
              "      <td>3.000000</td>\n",
              "      <td>272.000000</td>\n",
              "      <td>400.000000</td>\n",
              "    </tr>\n",
              "    <tr>\n",
              "      <th>max</th>\n",
              "      <td>76.750000</td>\n",
              "      <td>28.000000</td>\n",
              "      <td>28.500000</td>\n",
              "      <td>67.000000</td>\n",
              "      <td>2000.000000</td>\n",
              "      <td>100000.000000</td>\n",
              "    </tr>\n",
              "  </tbody>\n",
              "</table>\n",
              "</div>\n",
              "    <div class=\"colab-df-buttons\">\n",
              "\n",
              "  <div class=\"colab-df-container\">\n",
              "    <button class=\"colab-df-convert\" onclick=\"convertToInteractive('df-4960d884-c20e-424e-a377-176609b1317c')\"\n",
              "            title=\"Convert this dataframe to an interactive table.\"\n",
              "            style=\"display:none;\">\n",
              "\n",
              "  <svg xmlns=\"http://www.w3.org/2000/svg\" height=\"24px\" viewBox=\"0 -960 960 960\">\n",
              "    <path d=\"M120-120v-720h720v720H120Zm60-500h600v-160H180v160Zm220 220h160v-160H400v160Zm0 220h160v-160H400v160ZM180-400h160v-160H180v160Zm440 0h160v-160H620v160ZM180-180h160v-160H180v160Zm440 0h160v-160H620v160Z\"/>\n",
              "  </svg>\n",
              "    </button>\n",
              "\n",
              "  <style>\n",
              "    .colab-df-container {\n",
              "      display:flex;\n",
              "      gap: 12px;\n",
              "    }\n",
              "\n",
              "    .colab-df-convert {\n",
              "      background-color: #E8F0FE;\n",
              "      border: none;\n",
              "      border-radius: 50%;\n",
              "      cursor: pointer;\n",
              "      display: none;\n",
              "      fill: #1967D2;\n",
              "      height: 32px;\n",
              "      padding: 0 0 0 0;\n",
              "      width: 32px;\n",
              "    }\n",
              "\n",
              "    .colab-df-convert:hover {\n",
              "      background-color: #E2EBFA;\n",
              "      box-shadow: 0px 1px 2px rgba(60, 64, 67, 0.3), 0px 1px 3px 1px rgba(60, 64, 67, 0.15);\n",
              "      fill: #174EA6;\n",
              "    }\n",
              "\n",
              "    .colab-df-buttons div {\n",
              "      margin-bottom: 4px;\n",
              "    }\n",
              "\n",
              "    [theme=dark] .colab-df-convert {\n",
              "      background-color: #3B4455;\n",
              "      fill: #D2E3FC;\n",
              "    }\n",
              "\n",
              "    [theme=dark] .colab-df-convert:hover {\n",
              "      background-color: #434B5C;\n",
              "      box-shadow: 0px 1px 3px 1px rgba(0, 0, 0, 0.15);\n",
              "      filter: drop-shadow(0px 1px 2px rgba(0, 0, 0, 0.3));\n",
              "      fill: #FFFFFF;\n",
              "    }\n",
              "  </style>\n",
              "\n",
              "    <script>\n",
              "      const buttonEl =\n",
              "        document.querySelector('#df-4960d884-c20e-424e-a377-176609b1317c button.colab-df-convert');\n",
              "      buttonEl.style.display =\n",
              "        google.colab.kernel.accessAllowed ? 'block' : 'none';\n",
              "\n",
              "      async function convertToInteractive(key) {\n",
              "        const element = document.querySelector('#df-4960d884-c20e-424e-a377-176609b1317c');\n",
              "        const dataTable =\n",
              "          await google.colab.kernel.invokeFunction('convertToInteractive',\n",
              "                                                    [key], {});\n",
              "        if (!dataTable) return;\n",
              "\n",
              "        const docLinkHtml = 'Like what you see? Visit the ' +\n",
              "          '<a target=\"_blank\" href=https://colab.research.google.com/notebooks/data_table.ipynb>data table notebook</a>'\n",
              "          + ' to learn more about interactive tables.';\n",
              "        element.innerHTML = '';\n",
              "        dataTable['output_type'] = 'display_data';\n",
              "        await google.colab.output.renderOutput(dataTable, element);\n",
              "        const docLink = document.createElement('div');\n",
              "        docLink.innerHTML = docLinkHtml;\n",
              "        element.appendChild(docLink);\n",
              "      }\n",
              "    </script>\n",
              "  </div>\n",
              "\n",
              "\n",
              "<div id=\"df-b89e626c-d53e-4df3-8694-091e31bf5c40\">\n",
              "  <button class=\"colab-df-quickchart\" onclick=\"quickchart('df-b89e626c-d53e-4df3-8694-091e31bf5c40')\"\n",
              "            title=\"Suggest charts\"\n",
              "            style=\"display:none;\">\n",
              "\n",
              "<svg xmlns=\"http://www.w3.org/2000/svg\" height=\"24px\"viewBox=\"0 0 24 24\"\n",
              "     width=\"24px\">\n",
              "    <g>\n",
              "        <path d=\"M19 3H5c-1.1 0-2 .9-2 2v14c0 1.1.9 2 2 2h14c1.1 0 2-.9 2-2V5c0-1.1-.9-2-2-2zM9 17H7v-7h2v7zm4 0h-2V7h2v10zm4 0h-2v-4h2v4z\"/>\n",
              "    </g>\n",
              "</svg>\n",
              "  </button>\n",
              "\n",
              "<style>\n",
              "  .colab-df-quickchart {\n",
              "      --bg-color: #E8F0FE;\n",
              "      --fill-color: #1967D2;\n",
              "      --hover-bg-color: #E2EBFA;\n",
              "      --hover-fill-color: #174EA6;\n",
              "      --disabled-fill-color: #AAA;\n",
              "      --disabled-bg-color: #DDD;\n",
              "  }\n",
              "\n",
              "  [theme=dark] .colab-df-quickchart {\n",
              "      --bg-color: #3B4455;\n",
              "      --fill-color: #D2E3FC;\n",
              "      --hover-bg-color: #434B5C;\n",
              "      --hover-fill-color: #FFFFFF;\n",
              "      --disabled-bg-color: #3B4455;\n",
              "      --disabled-fill-color: #666;\n",
              "  }\n",
              "\n",
              "  .colab-df-quickchart {\n",
              "    background-color: var(--bg-color);\n",
              "    border: none;\n",
              "    border-radius: 50%;\n",
              "    cursor: pointer;\n",
              "    display: none;\n",
              "    fill: var(--fill-color);\n",
              "    height: 32px;\n",
              "    padding: 0;\n",
              "    width: 32px;\n",
              "  }\n",
              "\n",
              "  .colab-df-quickchart:hover {\n",
              "    background-color: var(--hover-bg-color);\n",
              "    box-shadow: 0 1px 2px rgba(60, 64, 67, 0.3), 0 1px 3px 1px rgba(60, 64, 67, 0.15);\n",
              "    fill: var(--button-hover-fill-color);\n",
              "  }\n",
              "\n",
              "  .colab-df-quickchart-complete:disabled,\n",
              "  .colab-df-quickchart-complete:disabled:hover {\n",
              "    background-color: var(--disabled-bg-color);\n",
              "    fill: var(--disabled-fill-color);\n",
              "    box-shadow: none;\n",
              "  }\n",
              "\n",
              "  .colab-df-spinner {\n",
              "    border: 2px solid var(--fill-color);\n",
              "    border-color: transparent;\n",
              "    border-bottom-color: var(--fill-color);\n",
              "    animation:\n",
              "      spin 1s steps(1) infinite;\n",
              "  }\n",
              "\n",
              "  @keyframes spin {\n",
              "    0% {\n",
              "      border-color: transparent;\n",
              "      border-bottom-color: var(--fill-color);\n",
              "      border-left-color: var(--fill-color);\n",
              "    }\n",
              "    20% {\n",
              "      border-color: transparent;\n",
              "      border-left-color: var(--fill-color);\n",
              "      border-top-color: var(--fill-color);\n",
              "    }\n",
              "    30% {\n",
              "      border-color: transparent;\n",
              "      border-left-color: var(--fill-color);\n",
              "      border-top-color: var(--fill-color);\n",
              "      border-right-color: var(--fill-color);\n",
              "    }\n",
              "    40% {\n",
              "      border-color: transparent;\n",
              "      border-right-color: var(--fill-color);\n",
              "      border-top-color: var(--fill-color);\n",
              "    }\n",
              "    60% {\n",
              "      border-color: transparent;\n",
              "      border-right-color: var(--fill-color);\n",
              "    }\n",
              "    80% {\n",
              "      border-color: transparent;\n",
              "      border-right-color: var(--fill-color);\n",
              "      border-bottom-color: var(--fill-color);\n",
              "    }\n",
              "    90% {\n",
              "      border-color: transparent;\n",
              "      border-bottom-color: var(--fill-color);\n",
              "    }\n",
              "  }\n",
              "</style>\n",
              "\n",
              "  <script>\n",
              "    async function quickchart(key) {\n",
              "      const quickchartButtonEl =\n",
              "        document.querySelector('#' + key + ' button');\n",
              "      quickchartButtonEl.disabled = true;  // To prevent multiple clicks.\n",
              "      quickchartButtonEl.classList.add('colab-df-spinner');\n",
              "      try {\n",
              "        const charts = await google.colab.kernel.invokeFunction(\n",
              "            'suggestCharts', [key], {});\n",
              "      } catch (error) {\n",
              "        console.error('Error during call to suggestCharts:', error);\n",
              "      }\n",
              "      quickchartButtonEl.classList.remove('colab-df-spinner');\n",
              "      quickchartButtonEl.classList.add('colab-df-quickchart-complete');\n",
              "    }\n",
              "    (() => {\n",
              "      let quickchartButtonEl =\n",
              "        document.querySelector('#df-b89e626c-d53e-4df3-8694-091e31bf5c40 button');\n",
              "      quickchartButtonEl.style.display =\n",
              "        google.colab.kernel.accessAllowed ? 'block' : 'none';\n",
              "    })();\n",
              "  </script>\n",
              "</div>\n",
              "\n",
              "    </div>\n",
              "  </div>\n"
            ],
            "text/plain": [
              "               A2          A3          A8         A11          A14  \\\n",
              "count  653.000000  653.000000  653.000000  653.000000   653.000000   \n",
              "mean    31.503813    4.829533    2.244296    2.502297   180.359877   \n",
              "std     11.838267    5.027077    3.371120    4.968497   168.296811   \n",
              "min     13.750000    0.000000    0.000000    0.000000     0.000000   \n",
              "25%     22.580000    1.040000    0.165000    0.000000    73.000000   \n",
              "50%     28.420000    2.835000    1.000000    0.000000   160.000000   \n",
              "75%     38.250000    7.500000    2.625000    3.000000   272.000000   \n",
              "max     76.750000   28.000000   28.500000   67.000000  2000.000000   \n",
              "\n",
              "                 A15  \n",
              "count     653.000000  \n",
              "mean     1013.761103  \n",
              "std      5253.278504  \n",
              "min         0.000000  \n",
              "25%         0.000000  \n",
              "50%         5.000000  \n",
              "75%       400.000000  \n",
              "max    100000.000000  "
            ]
          },
          "execution_count": 24,
          "metadata": {},
          "output_type": "execute_result"
        }
      ],
      "source": [
        "# lets look at the continuous variablesm, describe them\n",
        "continuous_variables = credit[['A2', 'A3', 'A8', 'A11', 'A14', 'A15']]\n",
        "continuous_variables.describe()"
      ]
    },
    {
      "cell_type": "code",
      "execution_count": null,
      "metadata": {
        "id": "lnUZhXLRN6WR"
      },
      "outputs": [],
      "source": [
        "# rename the 'A16' columne to target\n",
        "credit.rename(columns = {'A16': 'target'}, inplace=True)"
      ]
    },
    {
      "cell_type": "code",
      "execution_count": null,
      "metadata": {
        "id": "su8omMJtOFg2"
      },
      "outputs": [],
      "source": [
        "# Map the target variable so that it is 0/1\n",
        "mapping = {'+': 1, '-': 0}\n",
        "credit['target'] = credit['target'].map(mapping)"
      ]
    },
    {
      "cell_type": "code",
      "execution_count": null,
      "metadata": {
        "id": "JFLA-zRtNUjF"
      },
      "outputs": [],
      "source": [
        "# Find the correlations between the numeric variables\n",
        "correlation_matrix = continuous_variables.corr()"
      ]
    },
    {
      "cell_type": "markdown",
      "metadata": {
        "id": "vYhem87-M1ez"
      },
      "source": [
        "The scale of the variables seems to be very different. We will need to do some scaling."
      ]
    },
    {
      "cell_type": "code",
      "execution_count": null,
      "metadata": {
        "id": "z9YS-NINft5T"
      },
      "outputs": [],
      "source": [
        "# standardize the numeric variables\n",
        "for column in ['A2', 'A3', 'A8', 'A11', 'A14', 'A15']:\n",
        "  credit[column] = (credit[column] - credit[column].mean()) / credit[column].std()"
      ]
    },
    {
      "cell_type": "markdown",
      "metadata": {
        "id": "tSxQWfhb62no"
      },
      "source": [
        "Additional EDA:"
      ]
    },
    {
      "cell_type": "code",
      "execution_count": null,
      "metadata": {
        "colab": {
          "base_uri": "https://localhost:8080/",
          "height": 1000
        },
        "id": "ocjAg4JlEvEZ",
        "outputId": "d633c837-62f7-4085-e86d-aecb4a6621fe"
      },
      "outputs": [
        {
          "data": {
            "image/png": "[encoded data removed]",
            "text/plain": [
              "<Figure size 1200x600 with 1 Axes>"
            ]
          },
          "metadata": {},
          "output_type": "display_data"
        },
        {
          "data": {
            "image/png": "[encoded data removed]",
            "text/plain": [
              "<Figure size 1200x600 with 1 Axes>"
            ]
          },
          "metadata": {},
          "output_type": "display_data"
        },
        {
          "data": {
            "image/png": "[encoded data removed]",
            "text/plain": [
              "<Figure size 1200x600 with 1 Axes>"
            ]
          },
          "metadata": {},
          "output_type": "display_data"
        },
        {
          "data": {
            "image/png": "[encoded data removed]",
            "text/plain": [
              "<Figure size 1200x600 with 1 Axes>"
            ]
          },
          "metadata": {},
          "output_type": "display_data"
        },
        {
          "data": {
            "image/png": "[encoded data removed]",
            "text/plain": [
              "<Figure size 1200x600 with 1 Axes>"
            ]
          },
          "metadata": {},
          "output_type": "display_data"
        },
        {
          "data": {
            "image/png": "[encoded data removed]",
            "text/plain": [
              "<Figure size 1200x600 with 1 Axes>"
            ]
          },
          "metadata": {},
          "output_type": "display_data"
        },
        {
          "data": {
            "image/png": "[encoded data removed]",
            "text/plain": [
              "<Figure size 1200x600 with 1 Axes>"
            ]
          },
          "metadata": {},
          "output_type": "display_data"
        },
        {
          "data": {
            "image/png": "[encoded data removed]",
            "text/plain": [
              "<Figure size 1200x600 with 1 Axes>"
            ]
          },
          "metadata": {},
          "output_type": "display_data"
        },
        {
          "data": {
            "image/png": "[encoded data removed]",
            "text/plain": [
              "<Figure size 1200x600 with 1 Axes>"
            ]
          },
          "metadata": {},
          "output_type": "display_data"
        }
      ],
      "source": [
        "# Taking a look at the modes of the categorical features\n",
        "categorical_columns = ['A1', 'A4', 'A5', 'A6', 'A7', 'A9', 'A10', 'A12', 'A13']\n",
        "\n",
        "import warnings\n",
        "warnings.simplefilter(action='ignore', category=FutureWarning)\n",
        "\n",
        "for col in categorical_columns:\n",
        "    plt.figure(figsize=(12, 6))\n",
        "    sns.countplot(data=credit, x=col, palette='Set3')\n",
        "    plt.xticks(rotation=0)\n",
        "    plt.title(f'Distribution of {col}')\n",
        "    plt.show()"
      ]
    },
    {
      "cell_type": "code",
      "execution_count": null,
      "metadata": {
        "colab": {
          "base_uri": "https://localhost:8080/",
          "height": 682
        },
        "id": "AIrogCzkwI78",
        "outputId": "5f4e7fdf-0d28-4a93-ce94-5fa43dfadafb"
      },
      "outputs": [
        {
          "data": {
            "image/png": "[encoded data removed]",
            "text/plain": [
              "<Figure size 1000x800 with 2 Axes>"
            ]
          },
          "metadata": {},
          "output_type": "display_data"
        }
      ],
      "source": [
        "# Taking a look at the correlation matrix heatmap of the numerical features\n",
        "plt.figure(figsize=(10, 8))\n",
        "sns.heatmap(correlation_matrix, annot=True, cmap='coolwarm', linewidths=0.5)\n",
        "plt.show()"
      ]
    },
    {
      "cell_type": "markdown",
      "metadata": {
        "id": "v8oBzvpqGQbp"
      },
      "source": [
        "It seems like most of our numerical features are not very strongly correlated!"
      ]
    },
    {
      "cell_type": "markdown",
      "metadata": {
        "id": "_KSfY_fjNlIS"
      },
      "source": [
        "## Step 3: Implementing K-Means Algorithm"
      ]
    },
    {
      "cell_type": "markdown",
      "metadata": {
        "id": "ti8MadfVO9Y5"
      },
      "source": [
        "### Now lets implement the Euclidean distance"
      ]
    },
    {
      "cell_type": "code",
      "execution_count": null,
      "metadata": {
        "id": "Ul1O0lLiMtOS"
      },
      "outputs": [],
      "source": [
        "def euclidean_distance(x: np.array, y: np.array) -> float:\n",
        "    \"\"\"Calculates the Euclidean distance between two points.\n",
        "\n",
        "    Args:\n",
        "        x (numpy.ndarray): The first point.\n",
        "        y (numpy.ndarray): The second point.\n",
        "\n",
        "    Returns:\n",
        "        float: The Euclidean distance between the two points.\n",
        "    \"\"\"\n",
        "\n",
        "    sum = 0\n",
        "    for component in range(0, len(x)):\n",
        "      sum += (y[component]-x[component])**2\n",
        "\n",
        "    distance = np.sqrt(sum)\n",
        "    return distance"
      ]
    },
    {
      "cell_type": "markdown",
      "metadata": {
        "id": "LfeEEfBCPOR8"
      },
      "source": [
        "### Initialize the centroids\n",
        "\n",
        "Pick initial random points as your centroids."
      ]
    },
    {
      "cell_type": "code",
      "execution_count": null,
      "metadata": {
        "id": "dcjoHz0tPWiD"
      },
      "outputs": [],
      "source": [
        "def initialize_centroids(\n",
        "    X: pd.DataFrame, k: int, random_state: int = 12\n",
        ") -> pd.DataFrame:\n",
        "    \"\"\"Randomly selects k initial centroids from the dataset.\n",
        "\n",
        "    Args:\n",
        "        X: The dataset from which to select centroids.\n",
        "        k (int): The number of centroids to initialize.\n",
        "\n",
        "    Returns:\n",
        "        pd.DataFrame The initial centroids.\n",
        "    \"\"\"\n",
        "    # set seed to reproduce results.\n",
        "    np.random.seed(random_state)\n",
        "\n",
        "    initial_centroids = X.sample(n=k, replace=False)\n",
        "    return initial_centroids"
      ]
    },
    {
      "cell_type": "markdown",
      "metadata": {
        "id": "yUPhHraEVrEm"
      },
      "source": [
        "### Assign clusters to each point (each person in the data)\n",
        "\n",
        "Now that we have chosen initial points, lets write a function that takes in the dataset, and for each person (row) in the dataframe, it assigns a cluster."
      ]
    },
    {
      "cell_type": "code",
      "execution_count": null,
      "metadata": {
        "id": "AqiScGO5PWmf"
      },
      "outputs": [],
      "source": [
        "def assign_clusters(X: pd.DataFrame, centroids: pd.DataFrame) -> pd.DataFrame:\n",
        "    \"\"\"Calculates each data point's distance all centroids based on Euclidean distance.\n",
        "    Assumes that the first row in centroids is the 0th cluster, the second row\n",
        "    is the 1st cluster, and so on\n",
        "\n",
        "    Args:\n",
        "        X (pd.DataFrame): The dataset where each row is a data point.\n",
        "        centroids (pd.DataFrame): The current centroids.\n",
        "\n",
        "    Returns:\n",
        "        pd.DataFrame: X with the appended columns of cluster to which it belongs\n",
        "    \"\"\"\n",
        "    # lets first convert them into numpy arrays, this will make calculations faster\n",
        "    X_numpy = X.values\n",
        "    centroids_numpy = centroids.values\n",
        "\n",
        "    new_column = []\n",
        "    for row in X_numpy:\n",
        "      min_distance = euclidean_distance(row, centroids_numpy[0])\n",
        "      cluster = 0\n",
        "      for i in range(1, len(centroids_numpy)):\n",
        "        if min_distance > euclidean_distance(row, centroids_numpy[i]):\n",
        "          min_distance = euclidean_distance(row, centroids_numpy[i])\n",
        "          cluster = i\n",
        "      new_column.append(cluster)\n",
        "\n",
        "    X['cluster'] = np.array(new_column)\n",
        "    return X"
      ]
    },
    {
      "cell_type": "markdown",
      "metadata": {
        "id": "AL6tTMVEo2Az"
      },
      "source": [
        "### Update the centroids based on the clusters formed\n",
        "\n",
        "The new centroid is just the mean of all the points in that cluster. Note that this new centroid may not be a row in the dataframe, but some new values for all your features that don't exist in the credit dataframe"
      ]
    },
    {
      "cell_type": "code",
      "execution_count": null,
      "metadata": {
        "id": "LHfq4z-MPWsv"
      },
      "outputs": [],
      "source": [
        "def update_centroids(X: pd.DataFrame, k: int) -> pd.DataFrame:\n",
        "    \"\"\"Updates the centroids based on the mean of the points assigned to each cluster.\n",
        "\n",
        "    Args:\n",
        "        X (pd.DataFrame): The dataset where each row is a data point.\n",
        "        k (int): The number of clusters.\n",
        "\n",
        "    Returns:\n",
        "        pd.DataFrame: The updated centroids with the right columnnames.\n",
        "    \"\"\"\n",
        "\n",
        "    new_centroids = []\n",
        "    for cluster in range(0, k):\n",
        "      new_centroid = X[X['cluster'] == cluster].drop('cluster', axis=1).mean()\n",
        "      new_centroids.append(new_centroid)\n",
        "\n",
        "    column_names = list(X.drop('cluster', axis=1).columns)\n",
        "    centroids = pd.DataFrame(np.array(new_centroids), columns=column_names)\n",
        "    return centroids"
      ]
    },
    {
      "cell_type": "markdown",
      "metadata": {
        "id": "tuLlhmRopNOZ"
      },
      "source": [
        "### Run the K-Means algorithmn"
      ]
    },
    {
      "cell_type": "code",
      "execution_count": null,
      "metadata": {
        "id": "AWOk-YlgPWws"
      },
      "outputs": [],
      "source": [
        "def k_means(X: pd.DataFrame, k: int, max_iters: int = 100) -> tuple:\n",
        "    \"\"\"Performs k-means clustering.\n",
        "\n",
        "    Args:\n",
        "        X (pd.DataFrame): The dataset where each row is a data point.\n",
        "        k (int): The number of clusters.\n",
        "        max_iters (int, optional): The maximum number of iterations. Defaults to 100.\n",
        "\n",
        "    Returns:\n",
        "        tuple: A tuple containing the final centroids and the cluster assignments.\n",
        "    \"\"\"\n",
        "    # first initialize the centroids\n",
        "    centroids = initialize_centroids(X, k)\n",
        "    # then write a loop. within that loop:\n",
        "    # 1. assign_clusters\n",
        "    # 2. update centroids\n",
        "    # 3. Keep repeating until the centroids dont change OR you hit max_iters.\n",
        "\n",
        "    for i in range(0, max_iters):\n",
        "      if X.get('cluster') is not None:\n",
        "        X.drop('cluster', axis=1, inplace=True)\n",
        "      X = assign_clusters(X, centroids)\n",
        "      new_centroids = update_centroids(X, k)\n",
        "      if centroids.equals(new_centroids):\n",
        "        break\n",
        "      centroids = new_centroids\n",
        "\n",
        "    return centroids, X"
      ]
    },
    {
      "cell_type": "markdown",
      "metadata": {
        "id": "Nk8GzDgDZD2R"
      },
      "source": [
        "Since k-means works only on the numeric data, lets create a new dataframe that contains only numeric"
      ]
    },
    {
      "cell_type": "code",
      "execution_count": null,
      "metadata": {
        "id": "DSS_eOY1Y2zl"
      },
      "outputs": [],
      "source": [
        "# Lets run the k-means algorithm!\n",
        "credit_numeric = credit[['A2', 'A3', 'A8', 'A11', 'A14', 'A15']]"
      ]
    },
    {
      "cell_type": "code",
      "execution_count": null,
      "metadata": {
        "id": "YiGvRZVCZGkm"
      },
      "outputs": [],
      "source": [
        "centroids_formed, clusters_formed = k_means(credit_numeric, k=2)"
      ]
    },
    {
      "cell_type": "markdown",
      "metadata": {
        "id": "EuqOull4Vn7i"
      },
      "source": [
        "Now we will check how well the algorithm performed. We have our original target variable, the source of truth, that we coded as 0/1.\n",
        "\n",
        "We now have clustered our dataset into two different clusters. We have called them clusters 0 and 1, but these are not the same as the 0/1 from the target variable.\n",
        "\n",
        "So check how accurate we are, we need to check if we have mistakenly called taret 0 as cluster 1. So I create a cluster2 variable, and then calculate accuracy score with both cluster, and cluster2"
      ]
    },
    {
      "cell_type": "code",
      "execution_count": null,
      "metadata": {
        "id": "ievOv0d5r2WX"
      },
      "outputs": [],
      "source": [
        "# lets add on to this the original target variable\n",
        "clusters_formed['target'] = credit['target']\n",
        "clusters_formed['cluster2'] = clusters_formed['cluster']\n",
        "clusters_formed['cluster2'] = clusters_formed['cluster2'].map({0: 1, 1: 0})"
      ]
    },
    {
      "cell_type": "code",
      "execution_count": null,
      "metadata": {
        "colab": {
          "base_uri": "https://localhost:8080/"
        },
        "id": "fcKgXQeMuxTG",
        "outputId": "000ab98d-b035-4b4a-e7c9-9fe78e732e17"
      },
      "outputs": [
        {
          "data": {
            "text/plain": [
              "0.6339969372128637"
            ]
          },
          "execution_count": 23,
          "metadata": {},
          "output_type": "execute_result"
        }
      ],
      "source": [
        "accuracy_score(clusters_formed.target, clusters_formed.cluster)"
      ]
    },
    {
      "cell_type": "code",
      "execution_count": null,
      "metadata": {
        "colab": {
          "base_uri": "https://localhost:8080/"
        },
        "id": "iVft1073uxVY",
        "outputId": "fc0a3e24-33df-42f0-9d59-6e835f588b56"
      },
      "outputs": [
        {
          "data": {
            "text/plain": [
              "0.3660030627871363"
            ]
          },
          "execution_count": 24,
          "metadata": {},
          "output_type": "execute_result"
        }
      ],
      "source": [
        "accuracy_score(clusters_formed.target, clusters_formed.cluster2)"
      ]
    },
    {
      "cell_type": "markdown",
      "metadata": {
        "id": "LtWAU3P3PbtB"
      },
      "source": [
        "This does not look very accurate, and heavily imbalanced. Lets see if we can improve by adding categorical variables."
      ]
    },
    {
      "cell_type": "markdown",
      "metadata": {
        "id": "GH0Y4FXdPrCa"
      },
      "source": [
        "## Step 4: k-prototypes Clustering (Mixed Data)\n",
        "\n",
        " Implement k-prototypes from scratch, using numeric and categorical columns. Instead of clusters, we call them prototypes, and the centroid of a prototype has two components: the numeric component of means, and the categorical component of modes."
      ]
    },
    {
      "cell_type": "markdown",
      "metadata": {
        "id": "fjTdNE_EQWgw"
      },
      "source": [
        "### Define a function to calculate simple matching dissimilarity"
      ]
    },
    {
      "cell_type": "code",
      "execution_count": null,
      "metadata": {
        "id": "lzdtwfIfhPEF"
      },
      "outputs": [],
      "source": [
        "def simple_matching_dissimilarity(x: np.array, y: np.array) -> float:\n",
        "    \"\"\"Calculates the simple matching dissimilarity between two categorical samples.\n",
        "\n",
        "    Args:\n",
        "        x (numpy.ndarray): the categorical features of the first sample.\n",
        "        y (numpy.ndarray): the categorical features of the second sample.\n",
        "\n",
        "    Returns:\n",
        "        int: The number of mismatches between the two points.\n",
        "    \"\"\"\n",
        "\n",
        "    missmatches = 0\n",
        "    for i in range(0, len(x)):\n",
        "      if x[i] != y[i]:\n",
        "        missmatches += 1\n",
        "    return missmatches"
      ]
    },
    {
      "cell_type": "markdown",
      "metadata": {
        "id": "7SnoJiXUhXVS"
      },
      "source": [
        "### Define a function to calculate mixed dissimilarity\n"
      ]
    },
    {
      "cell_type": "code",
      "execution_count": null,
      "metadata": {
        "id": "xn6wqXEjPjfS"
      },
      "outputs": [],
      "source": [
        "def mixed_dissimilarity(\n",
        "    x_num: np.array, y_num: np.array, x_cat: list, y_cat: list, gamma: float\n",
        ") -> float:\n",
        "    \"\"\"Calculates the mixed dissimilarity between two sample with numeric and categorical features.\n",
        "    This would be given by  num_diff + gamma * cat_diff\n",
        "\n",
        "    Args:\n",
        "        x_num (numpy.ndarray): The numeric part of the first sample.\n",
        "        y_num (numpy.ndarray): The numeric part of the second sample.\n",
        "        x_cat (numpy.ndarray): The categorical part of the first sample.\n",
        "        y_cat (numpy.ndarray): The categorical part of the second sample.\n",
        "        gamma (float): The weighting factor for categorical features.\n",
        "\n",
        "    Returns:\n",
        "        float: The combined dissimilarity score.\n",
        "    \"\"\"\n",
        "    return euclidean_distance(x_num, y_num) + gamma * simple_matching_dissimilarity(x_cat, y_cat)"
      ]
    },
    {
      "cell_type": "markdown",
      "metadata": {
        "id": "cPtWFa8rxhBi"
      },
      "source": [
        "### Initialize the prototypes\n",
        "\n",
        "At first, let's just pick initial random points as our prototypes.\n"
      ]
    },
    {
      "cell_type": "code",
      "execution_count": null,
      "metadata": {
        "id": "spEtvNCmxj9o"
      },
      "outputs": [],
      "source": [
        "def initialize_centroids_mixed(\n",
        "    X: pd.DataFrame, k: int, random_state: int = 12\n",
        ") -> pd.DataFrame:\n",
        "    \"\"\"Randomly selects k initial centroids from the dataset.\n",
        "\n",
        "    Args:\n",
        "        X: The dataset from which to select centroids.\n",
        "        k (int): The number of centroids to initialize.\n",
        "\n",
        "    Returns:\n",
        "        pd.DataFrame The initial centroids.\n",
        "    \"\"\"\n",
        "    # set seed to reproduce results.\n",
        "    np.random.seed(random_state)\n",
        "\n",
        "    initial_centroids_mixed = X.sample(n=k, replace=False)\n",
        "    return initial_centroids_mixed"
      ]
    },
    {
      "cell_type": "markdown",
      "metadata": {
        "id": "LnyS0LuNQwMx"
      },
      "source": [
        "### Assign prototypes to each point (each person in the dataset)\n",
        "\n",
        "This function assigns each sample to the nearest prototype based on mixed dissimilarity.\n",
        "\n"
      ]
    },
    {
      "cell_type": "code",
      "execution_count": null,
      "metadata": {
        "id": "X_NZnZDWPjhn"
      },
      "outputs": [],
      "source": [
        "def assign_prototypes_mixed(\n",
        "    X: pd.DataFrame,\n",
        "    cat_features: list,\n",
        "    num_features: list,\n",
        "    centroids: pd.DataFrame,\n",
        "    gamma: float,\n",
        ") -> pd.DataFrame:\n",
        "  \"\"\"Assigns each sample to the nearest prototype based on mixed dissimilarity.\n",
        "\n",
        "  Args:\n",
        "      X (pd.DataFrame): The dataset containing all your data\n",
        "      cat_features (list): list of all categorical features\n",
        "      num_features (list): list of all num_features features\n",
        "      centroids (pd.DataFrame): A dataframe with k rows, corresponding to the\n",
        "        centroid of each prototype\n",
        "      gamma (float): The weighting factor for categorical features.\n",
        "\n",
        "  Returns:\n",
        "      pd.DataFrame: X with the appended columns of cluster to which it belongs\n",
        "  \"\"\"\n",
        "  # Lets split the data into categorical and numerical numpy arrays\n",
        "  X_num = X[num_features].values\n",
        "  X_cat = X[cat_features].values\n",
        "\n",
        "  new_column = []\n",
        "  centroids_num = centroids[num_features].values\n",
        "  centroids_cat = centroids[cat_features].values\n",
        "\n",
        "  for i in range(0, len(X)): #for every row\n",
        "    min_distance = mixed_dissimilarity(X_num[i], centroids_num[0], X_cat[i], centroids_cat[0], gamma)\n",
        "    cluster = 0\n",
        "    for j in range(0, len(centroids)): #calculate the distance from every centroids\n",
        "      if min_distance > mixed_dissimilarity(X_num[i], centroids_num[j], X_cat[i], centroids_cat[j], gamma):\n",
        "        min_distance = mixed_dissimilarity(X_num[i], centroids_num[j], X_cat[i], centroids_cat[j], gamma)\n",
        "        cluster = j\n",
        "    new_column.append(cluster)\n",
        "\n",
        "  X['prototype'] = np.array(new_column)\n",
        "  return X"
      ]
    },
    {
      "cell_type": "markdown",
      "metadata": {
        "id": "A1ZggnMn15hj"
      },
      "source": [
        "### Update the centroids based on the prototypes formed\n",
        "\n",
        "The new centroid is just the mean of all the numeric featurse in that prototypes, and the mode of all the categorical features in the prototypes.\n",
        "\n",
        "Note that this new centroid may not be a row in the dataframe, but some new values for all your features that don't exist in the credit dataframe"
      ]
    },
    {
      "cell_type": "code",
      "execution_count": null,
      "metadata": {
        "id": "78yat8CMPjj6"
      },
      "outputs": [],
      "source": [
        "def update_centroids_mixed(\n",
        "    X: pd.DataFrame, cat_features: list, num_features: list, k: int\n",
        ") -> pd.DataFrame:\n",
        "  \"\"\"Updates the centroids for each prototype in k-prototypes.\n",
        "\n",
        "  Args:\n",
        "      X (pd.DataFrame): The dataset containing all your data\n",
        "      cat_features (list): list of all categorical features\n",
        "      num_features (list): list of all num_features features\n",
        "      k (int): The number of prototypes.\n",
        "\n",
        "  Returns:\n",
        "      pd.DataFrame: The updated centroids with the right columnnames.\n",
        "  \"\"\"\n",
        "\n",
        "  new_centroids_cat = []\n",
        "  new_centroids_num = []\n",
        "  for cluster in range(0, k):\n",
        "    new_centroid_num = X[X['prototype'] == cluster].drop(cat_features + ['prototype'], axis=1).mean()\n",
        "    new_centroids_num.append(new_centroid_num)\n",
        "\n",
        "    new_centroid_cat = X[X['prototype'] == cluster].drop(num_features + ['prototype'], axis=1).mode().iloc[0]\n",
        "    new_centroids_cat.append(new_centroid_cat)\n",
        "\n",
        "  new_centroids_num_df = pd.DataFrame(np.array(new_centroids_num), columns=num_features)\n",
        "  new_centroids_cat_df = pd.DataFrame(np.array(new_centroids_cat), columns=cat_features)\n",
        "\n",
        "  return pd.concat([new_centroids_num_df, new_centroids_cat_df], axis=1)"
      ]
    },
    {
      "cell_type": "markdown",
      "metadata": {
        "id": "yaDNHS3N6tOz"
      },
      "source": [
        "### Implement the k-prototypes"
      ]
    },
    {
      "cell_type": "code",
      "execution_count": null,
      "metadata": {
        "id": "BpIkS4WRPjmM"
      },
      "outputs": [],
      "source": [
        "def k_prototypes(\n",
        "    X: pd.DataFrame,\n",
        "    cat_features: list,\n",
        "    num_features: list,\n",
        "    k: int,\n",
        "    gamma: float,\n",
        "    max_iters: int = 100,\n",
        ") -> tuple:\n",
        "    \"\"\"Performs k-prototypes clustering.\n",
        "\n",
        "    Args:\n",
        "        X (numpy.ndarray): The numeric part of the dataset.\n",
        "        k (int): The number of clusters.\n",
        "        gamma (float): The weighting factor for categorical features.\n",
        "        max_iters (int, optional): The maximum number of iterations. Defaults to 100.\n",
        "\n",
        "    Returns:\n",
        "        tuple: A tuple containing the final prototypes and the cluster assignments.\n",
        "    \"\"\"\n",
        "    centroids = initialize_centroids_mixed(X, k)\n",
        "    # get the columns in the right order\n",
        "    centroids = centroids[num_features + cat_features]\n",
        "\n",
        "    for i in range(0, max_iters):\n",
        "      if X.get('prototype') is not None:\n",
        "        X.drop('prototype', axis=1, inplace=True)\n",
        "      X = assign_prototypes_mixed(X, cat_features, num_features, centroids, gamma)\n",
        "      new_centroids = update_centroids_mixed(X, cat_features, num_features, k)\n",
        "      if centroids.equals(new_centroids):\n",
        "        break\n",
        "      centroids = new_centroids\n",
        "\n",
        "    return centroids, X"
      ]
    },
    {
      "cell_type": "code",
      "execution_count": null,
      "metadata": {
        "id": "sjxR-1PyAW1O"
      },
      "outputs": [],
      "source": [
        "num_features = ['A2', 'A3', 'A8', 'A11', 'A14', 'A15']\n",
        "cat_features = ['A1', 'A4', 'A5', 'A6', 'A7', 'A9', 'A10', 'A12', 'A13']"
      ]
    },
    {
      "cell_type": "code",
      "execution_count": null,
      "metadata": {
        "id": "_F1EEJUoBF_l"
      },
      "outputs": [],
      "source": [
        "X = credit.drop('target', axis=1)"
      ]
    },
    {
      "cell_type": "code",
      "execution_count": null,
      "metadata": {
        "id": "JuPo-1R-8Buc"
      },
      "outputs": [],
      "source": [
        "initial_centroids = initialize_centroids_mixed(X, 2)"
      ]
    },
    {
      "cell_type": "code",
      "execution_count": null,
      "metadata": {
        "id": "32ZpuCGoPjoX"
      },
      "outputs": [],
      "source": [
        "centroids, prototypes = k_prototypes(X, cat_features, num_features, 2, gamma=0.5)"
      ]
    },
    {
      "cell_type": "code",
      "execution_count": null,
      "metadata": {
        "id": "MT12MsJ4G_Zv"
      },
      "outputs": [],
      "source": [
        "# lets add on to this the original target variable\n",
        "prototypes['target'] = credit['target']\n",
        "prototypes['prototype2'] = prototypes['prototype']\n",
        "prototypes['prototype2'] = prototypes['prototype2'].map({0: 1, 1: 0})"
      ]
    },
    {
      "cell_type": "code",
      "execution_count": null,
      "metadata": {
        "colab": {
          "base_uri": "https://localhost:8080/"
        },
        "id": "YmxOzKULPjsl",
        "outputId": "937c7882-0e12-4a11-dd0e-da8e93deaf46"
      },
      "outputs": [
        {
          "data": {
            "text/plain": [
              "0.8101071975497703"
            ]
          },
          "execution_count": 38,
          "metadata": {},
          "output_type": "execute_result"
        }
      ],
      "source": [
        "accuracy_score(prototypes.target, prototypes.prototype)"
      ]
    },
    {
      "cell_type": "code",
      "execution_count": null,
      "metadata": {
        "colab": {
          "base_uri": "https://localhost:8080/"
        },
        "id": "v024mbhrHvGo",
        "outputId": "ada8ef92-a9e8-4e55-9eb0-834e6c3815b4"
      },
      "outputs": [
        {
          "data": {
            "text/plain": [
              "0.18989280245022971"
            ]
          },
          "execution_count": 39,
          "metadata": {},
          "output_type": "execute_result"
        }
      ],
      "source": [
        "accuracy_score(prototypes.target, prototypes.prototype2)"
      ]
    },
    {
      "cell_type": "markdown",
      "metadata": {
        "id": "RZ5dT9KKbn8L"
      },
      "source": [
        "Wow, we went up a lot in accuracy! Not too bad with a simple unsupervised learning algorithm :)"
      ]
    }
  ],
  "metadata": {
    "colab": {
      "provenance": [],
      "toc_visible": true
    },
    "kernelspec": {
      "display_name": "Python 3",
      "name": "python3"
    },
    "language_info": {
      "name": "python"
    }
  },
  "nbformat": 4,
  "nbformat_minor": 0
}
